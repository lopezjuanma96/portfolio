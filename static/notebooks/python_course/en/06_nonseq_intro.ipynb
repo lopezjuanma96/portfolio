{
 "cells": [
  {
   "cell_type": "markdown",
   "metadata": {},
   "source": [
    "# 06 - Break the sequence!\n",
    "\n",
    "Up to now, we've been working with sequential code. This means our code run a line with a task, after it finishes it runs the next line with the next task, and so on until there's no more code to run. This is the default behaviour of Python code - and most programming languages.\n",
    "\n",
    "But think, for example, of any of your favourite game or phone app. You will notice that there are some tasks that are run sequentially, and others that aren't. In fact, instead of thinking of a digital example, let's take a look at a more real one:\n",
    "\n",
    "Let's say you are leaving your house for a week, and a friend of yours is willing to take care of it while you are gone. You want to make sure that your friend knows what to do, so you write a list of instructions for them. There are parts of that list that are shaped like a sequence, like \"do this task, and then this\", but you will likely need to break the sequence, like \"if this happens, do this, otherwise do that\", or \"do this task, then this, then reapeat this 5 times\". If this is not clear enough, maybe this diagram will help:\n",
    "\n",
    "![seq_vs_nonseq](https://raw.githubusercontent.com/lopezjuanma96/portfolio/main/img/python_course/seq_vs_nonseq.gif)\n",
    "\n",
    "As you can see, on the left side, at each step there is a single task to run, and then move on to the next one. On the right side, there is sometimes one task, but also maybe a decision point (romboid) to choose between two or more tasks, or maybe a loop (circle) where to repeat a task a number of times. This diagram style is called a flowchart, and it's a very useful tool to plan your code before you start writing it, but we will see this in depth in a later lesson, once we have more tools to create more complex code."
   ]
  },
  {
   "cell_type": "markdown",
   "metadata": {},
   "source": [
    "## The keywords\n",
    "\n",
    "To be able to break the sequence, and control the flow of this *non-sequential* code, we need a way to tell Python what to do. In the same way we learned the basic syntax of Python on the first chapters, there is a syntax to control the flow of the code. For this syntax we will use specific keywords, like we've been doing for types, printings, and so. These keywords are:\n",
    "\n",
    "- **if**, **elif** & **else**: Togheter with booleans they will help us make decisions. These is also code *conditionals* on coding, and will help us evaluate a situation and based on the result take one path or another.\n",
    "- **for** & **in**: These are one set of keywords that will help us run loops. Loops are repetitions of the same code a certain number of times. In the case of the for loop, this loop will run over a chain of ordered elements, like a tuple, list or keys/values of a dictionary.\n",
    "- **while**: This is the other set of keywords (actually one keyword) that will help us run loops. In this case, the loop will run while a condition is met, as if there where a conditional checked every time the loop ends that tells Python if it should run the loop again or not.\n",
    "- **break**, **continue** & **pass**: These are used togheter with any of the loop keywords to give you more control inside the loop. They are not mandatory, but they can be very useful in some cases, for example to stop a loop not after a certain number of repetitions, but in the middle of running one of them.\n",
    "\n",
    "Like with other keywords, these ones are reserved words, so you can't use them as variable names. Also, they are case sensitive, so you need to write them exactly as they are written here.\n",
    "\n",
    "The next chapters will be dedicated to see how to use these keywords, and how to combine them to **break the sequence!** (let me just say it a few more times). I only listed them so you start to get familiar with them and to show you how the syntax for them works."
   ]
  },
  {
   "cell_type": "markdown",
   "metadata": {},
   "source": [
    "## The syntax: colons and indentation"
   ]
  },
  {
   "cell_type": "markdown",
   "metadata": {},
   "source": [
    "Once you have the keywords, you have to be able to tell Python which pieces of code each keyword will make effect on. Some other languages use brackets to do this, like `{}` or `[]`, but Python uses colons `:` and indentation.\n",
    "\n",
    "After the keyword structure we add a colon `:` and indent the code that will be affected by that keyword. Then we remove the indentation to stop the effect of that keyword. It seems complicated but an example will show you how simple it is."
   ]
  },
  {
   "cell_type": "code",
   "execution_count": null,
   "metadata": {},
   "outputs": [],
   "source": [
    "my_boolean = True\n",
    "\n",
    "print(\"Since my_boolean is:\", my_boolean, \"..\")\n",
    "\n",
    "if my_boolean:\n",
    "    print(\"..the first part of the code is run:\")\n",
    "    print(\"This course is great!\")\n",
    "else:\n",
    "    print(\"..the second part of the code is run:\")\n",
    "    print(\"This code is amazing!\")\n",
    "\n",
    "print(\"And then the code continues here.\")"
   ]
  },
  {
   "cell_type": "markdown",
   "metadata": {},
   "source": [
    "Before you start panicking, remember we will see how to use the *conditionals* `if`, `elif` and `else` in the next chapter. Let's only focus on the syntax:\n",
    "\n",
    "- We start with two simple lines of code, a definition of a variable `my_boolean` and a print of its value. This part is completely sequential.\n",
    "- We have the `if` keyword that will evaluate **something** (again, let's not care about that now). Following this structure, we add a semicolon `:` and indent the next piece of code. This code will be run if the condition is met.\n",
    "- When we want to stop the effect of the `if` keyword, we just remove the indentation. In this case we added a new keyword `else` followed by another colon `:` and code indentation. This code will be run if the condition of the above if is not met.\n",
    "- Finally, we remove the indentation again to stop the effect of the `else` keyword, this time to go back to sequential code.\n",
    "\n",
    "Try changing the value of `my_boolean` from `True` to `False` and see how the output changes.\n"
   ]
  },
  {
   "cell_type": "markdown",
   "metadata": {},
   "source": [
    "This indentation is commonly achieved with a tab or tabulation (the key that is usually on the left of the letter Q on your keyboard, with two arrows pointing left and right). However, you can also use 2 or more spaces to achieve the same effect."
   ]
  },
  {
   "cell_type": "code",
   "execution_count": null,
   "metadata": {},
   "outputs": [],
   "source": [
    "my_counter = 0\n",
    "\n",
    "print(\"We start with counter at:\", my_counter, \"..\")\n",
    "\n",
    "while my_counter < 5:\n",
    "  my_counter += 1\n",
    "  print(\"..and with 2-spaced indentation add 1 to counter, which is now:\", my_counter, \"..\")\n",
    "\n",
    "print(\"And then the code continues here.\")"
   ]
  },
  {
   "cell_type": "markdown",
   "metadata": {},
   "source": [
    "The important thing is that you are consistent with the indentation you use, ideally in all your script but at least on the same block of code. Python will raise an error if you mix indentation styles. This is important because in the future you may search for other people's code and you have to be careful to use the same indentation style as them or change their code to your style.\n",
    "\n",
    "We can also quuicky review the cell above, again only focusing on the syntax and not how the `while` structure works.\n",
    "\n",
    "- We start with two sequential lines of code, a definition of a variable `my_counter` and a print of its value.\n",
    "- Then the `while` keyword which will repeat lines of code while a condition is met. To tell python which lines of code to repeat, we follow the `while` structure with a colon `:` and indent all the lines of code that will be repeated.\n",
    "- Finally we remove the indentation to stop the effect of the `while` keyword and go back to sequential code.\n",
    "\n",
    "Try changing the value of `my_counter` to other values and see how the output changes. What changes if `my_counter` is defined as a `float` instead of an `int`? What if the value is negative? What if `my_counter` starts at 5 or 10?"
   ]
  },
  {
   "cell_type": "markdown",
   "metadata": {},
   "source": [
    "## More, more, MORE !!"
   ]
  },
  {
   "cell_type": "markdown",
   "metadata": {},
   "source": [
    "Up to now, we've been adding blocks of non-sequential code and then going back to sequential. Inside this non-sequential blocks, if you isolate the indented lines, these are small pieces of sequential code. But we can also add non-sequential blocks inside other non-sequential blocks. Like when defining lists or dictionaries, this is called **nesting**, and it's achieved by adding a new set of colon and code indentation inside the previous non-sequential block. This means the non-sequential block inside another non-sequential block will be indented on already indented lines, so double indented."
   ]
  },
  {
   "cell_type": "code",
   "execution_count": null,
   "metadata": {},
   "outputs": [],
   "source": [
    "my_boolean = False\n",
    "\n",
    "print(\"Since my_boolean is:\", my_boolean, \"..\")\n",
    "\n",
    "if my_boolean:\n",
    "  my_counter = 0\n",
    "  print(\"..the code inside if is run, where counter starts at\", my_counter, \"..\")\n",
    "  while my_counter < 5:\n",
    "    my_counter += 1\n",
    "    print(\"..and inside the while loop, with double indentation, add 1 to counter, which is now:\", my_counter, \"..\")\n",
    "  print(\"..and the while loop finishes with conter at:\", my_counter, \"..\")\n",
    "else:\n",
    "  my_word = \"extra\"\n",
    "  print(\"..the code inside else is run, where word is:\", my_word, \"..\")\n",
    "  for letter in my_word:\n",
    "    print(\"..and inside the for loop, with double indentation, we read one letter of the word:\", letter, \"..\")\n",
    "  print(\"..and the for loop finishes..\")\n",
    "\n",
    "print(\"..and back to sequential.\")"
   ]
  },
  {
   "cell_type": "markdown",
   "metadata": {},
   "source": [
    "We won't go step by step on this one - it's too long - but you can do it on your own, it'll also serve as practice. Instead let's do more like a global analysis.\n",
    "\n",
    "- At the start and end of the cell we have sequential code.\n",
    "- Then we have a first level of non-sequential code, with an `if` block and an `else` block.\n",
    "- Each of these blocks have both sequential and non-sequential code. The `if` block has a `while` loop and some sequential lines, the `else` block has a `for` loop and some sequential lines. Also, this is your first encounter with a `for` loop, CONGRATULATIONS !! WHOOP WHOOP !! HIGH FIVE !! (I'm sorry, I'm just so excited for you)\n",
    "\n",
    "Like before, try changing the values of each of the defined variables and see how everything changes. This could help you understand how this keywords work, although remember we will see them in depth in the next chapters.\n",
    "\n",
    "**Note:** we saw one level of indentation, keep in mind we can basically nest as much as we want. "
   ]
  },
  {
   "cell_type": "markdown",
   "metadata": {},
   "source": [
    "Comparatively, look at this next piece of code, where different non-sequential blocks are used but not nested:"
   ]
  },
  {
   "cell_type": "code",
   "execution_count": null,
   "metadata": {},
   "outputs": [],
   "source": [
    "my_boolean = True\n",
    "\n",
    "print(\"Since my_boolean is:\", my_boolean, \"..\")\n",
    "\n",
    "if my_boolean:\n",
    "    print(\"..the first part of the code is run:\")\n",
    "    print(\"This course is great!\")\n",
    "else:\n",
    "    print(\"..the second part of the code is run:\")\n",
    "    print(\"This code is amazing!\")\n",
    "\n",
    "print(\"..and we go back to sequential..\")\n",
    "\n",
    "my_counter = 0\n",
    "print(\"..and start with counter at:\", my_counter, \"..\")\n",
    "\n",
    "while my_counter < 5:\n",
    "    my_counter += 1\n",
    "    print(\"..and on a separate while loop, add 1 to counter, which is now:\", my_counter, \"..\")\n",
    "\n",
    "print(\"..and finally go back to sequential\")"
   ]
  },
  {
   "cell_type": "markdown",
   "metadata": {},
   "source": [
    "This time analyzing the code is all up to you! But yet I will be the one keeping the earning of $0.00 for this course. I'm sorry, I don't make the rules. Well, actually yes."
   ]
  },
  {
   "cell_type": "markdown",
   "metadata": {},
   "source": [
    "## One final note:\n",
    "\n",
    "There are other structures that could be considered non-sequential, like functions and parallel computing. But I consider those more complex concepts, and they make full sections on their own, so I did not include them on the same group as conditionals and loops.\n",
    "\n",
    "Remember many some of the categorizations and conceptualizations are my own way of presenting them to you for I think it is the easiest way for you to understand them, but the most important thing is to get the concepts and be able to use them."
   ]
  },
  {
   "cell_type": "markdown",
   "metadata": {},
   "source": [
    "## That's it!\n",
    "\n",
    "That's it for this chapter. That's it for this chapter. It was mostly introductory, but it's important to understand the syntax of these keywords before we start using them.\n",
    "\n",
    "### We learned:\n",
    "\n",
    "- What is sequential code and how to break it with non-sequential code.\n",
    "- The keywords to break the sequence: `if`, `elif`, `else`, `for`, `in`, `while`, `break`, `continue` & `pass`.\n",
    "- The syntax to use these keywords: colons `:` and indentation.\n",
    "\n",
    "### Next chapter we will:\n",
    "\n",
    "- Learn how to use the *conditional* non-sequential code, with the `if`, `elif` and `else` keywords, to make decisions."
   ]
  }
 ],
 "metadata": {
  "language_info": {
   "name": "python"
  },
  "orig_nbformat": 4
 },
 "nbformat": 4,
 "nbformat_minor": 2
}
