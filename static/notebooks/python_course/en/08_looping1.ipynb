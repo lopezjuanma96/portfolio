{
 "cells": [
  {
   "cell_type": "markdown",
   "metadata": {},
   "source": [
    "# 08 - Round and around and around we go (not really sure how to feel about it)\n",
    "\n",
    "Let's think of loops on other contexts:\n",
    "\n",
    "- in music, there are loops that repeat themselves over the song to accompany the music. There are also loop pedals for live recording of those loops, you can check Ed Sheeran's live performances or Elise Throuw's videos for a reference. Actually, let me also recommend a girl from my lovely country Argentina, Silvina Moreno, she is not a loop pedal specific but she has a lot of videos using loop pedal.\n",
    "- in toy cars, there are loops that the car has to go through to complete the circuit. This loops are vertical or horizontal curves that after finishing end up in the same place they started. I just remembered a Hot Wheels PC game where you could build your own digital tracks and then go through them with your car. I used to play that game a lot when I was a kid.\n",
    "- rollercoasters also have loops like toy cars, but on those it's your brain that gets all fumbled with the crazy movements of going up and down and around.\n",
    "\n",
    "Well in programming loops also have all these properties. They take a piece of code and after running it, they go back to the beginning and run it again. This way they repeat the code for a certain number of times. Like conditionals, they are also a way to **BREAK THE SEQUENCE** and use non-sequential code - **AND BREAK THE SEQUENCE** (i'm now invested on making it viral)."
   ]
  },
  {
   "cell_type": "markdown",
   "metadata": {},
   "source": [
    "## Two sides of the same coin"
   ]
  },
  {
   "cell_type": "markdown",
   "metadata": {},
   "source": [
    "There are two ways of creating loops in Python, the first one is using the `while` statement and the second one is using the `for` statement. Both of them are used to repeat a piece of code, but they have different ways of doing it. For those of you coming from other programming languages, the `for` statement in Python not only changes the way you write the loop, but also the way you think about it. None of them is better than the other, they just have different usecases, and most situations could be solved with both of them depending on how you approach them."
   ]
  },
  {
   "cell_type": "markdown",
   "metadata": {},
   "source": [
    "## the `while` statement, or the \"I don't know how many times I'm going to do this\" loop"
   ]
  },
  {
   "cell_type": "markdown",
   "metadata": {},
   "source": [
    "We will start with `while` loops because they have some similarities with *conditionals*, which we saw on the last chapter. The `while` statement, like the `if`/`elif` statement, takes a condition and a piece of indented code: but instead of deciding to run or not running that code, it decides how many times to run it. The condition is evaluated at the beginning of each loop, and if it's `True` the code is run, if it's `False` the code is not run and the loop ends.\n",
    "\n",
    "```\n",
    "while <condition>:\n",
    "    <indented-code>\n",
    "```\n",
    "\n",
    "- The `while` keyword starts the while loop.\n",
    "- The `<condition>` is a boolean expression that evaluates to `True` or `False`. It is evaluated at the beginning of each loop. If it's `True` the loop runs once more, if it's `False` the loop ends. It is important to know that once the condition is `False`, the condition won't be evaluated again.\n",
    "- The `<indented-code>`, presented after a colon `:` and indentation, like the *conditionals* from last chapter, is the code that is run on every loop, which is the same as saying every time the condition is `True`.\n",
    "\n",
    "Unless there is a very specific usecase, you need to **ALWAYS** be careful with endless loops. An endless loop can happen if nothing in your code can change the result of `<condition>` from `True` to `False`. If this happens, the loop will run forever and your program will never end. Plenty of systems nowadays have ways of manually stopping a program: on Jupyter Notebooks most interfaces have a stop button, on most terminals you can press `Ctrl+C`, but it is still a good practice to avoid endless loops."
   ]
  },
  {
   "cell_type": "code",
   "execution_count": null,
   "metadata": {},
   "outputs": [],
   "source": [
    "i = 0\n",
    "\n",
    "print(\"Before the loop starts, i is\", i)\n",
    "\n",
    "while i < 10:\n",
    "    print(\"i is now\", i)\n",
    "    i += 1\n",
    "\n",
    "print(\"After the loop ends, i is\", i)"
   ]
  },
  {
   "cell_type": "markdown",
   "metadata": {},
   "source": [
    "As you can see, the expression `i < 10` is `True` at the beginning of the loop, so the code is run once, where `i` is increased by 1. Then the condition is evaluated again, and it's still `True`, so the code is run again. This process is repeated until `i` is 10, and the condition is `False`, so the loop ends. Try changing the value of `i` to see how the code ends.\n",
    "\n",
    "Above I warned you about endless loops. In this case, without adding the `i += 1` line, we would get an endless loop, because `i` would always be 0 and `i < 10` would always be `True`. If you want to try it, you can remove the line or comment it out (adding `#` at the beginning of the line), and then run the cell. Remember you will have to stop it manually after a while with the stop button above, or else no other cell will run, because the code is stuck on that loop.\n",
    "\n",
    "The variable `i` here is normally called the `counter` on a loop, because it allows us to define how many times the loop will run. But the while loop also allows us to work with conditions that don't have a predefined number of times."
   ]
  },
  {
   "cell_type": "code",
   "execution_count": null,
   "metadata": {},
   "outputs": [],
   "source": [
    "import time\n",
    "\n",
    "start = time.time()\n",
    "run_counter = 0\n",
    "while int(time.time() - start) % 5 != 0:\n",
    "    run_counter += 1\n",
    "\n",
    "print(\"The loop ran\", run_counter, \"times in 5 seconds.\")   "
   ]
  },
  {
   "cell_type": "markdown",
   "metadata": {},
   "source": [
    "Okay, we are seeing some weird code lines here. We won't see `imports` until we go through many other chapters, for now know that the lines `import time` and `int(time.time() - start)` let us get how much seconds passed since we started the loop. The rest of the expression we should be able to analyze: since `number % 5` get us the remainder of the division of `number` by 5, the expression is `True` while the seconds passed are not a multiple of 5.\n",
    "\n",
    "If you run this code many times, it should print a different number of `run_counter` everytime. This is an example of a loop that doesn't have a predefined number of times, but it has a condition that will eventually be `False` and end the loop. This condition could be a timer like this, or it could be something related to a user input, a sensor reading, some random number, etc."
   ]
  },
  {
   "cell_type": "markdown",
   "metadata": {},
   "source": [
    "### Something pretty stupid\n",
    "\n",
    "Since the `while` statement, like the `if` statement, takes a boolean expression, we could theorically used the `while` statement to replace the `if` statement, by forcing the loop to run only once. There is no need to do this, and it's actually a very bad practice, but it might help you better defined the `while` loop from the `for` loop that we will see next."
   ]
  },
  {
   "cell_type": "code",
   "execution_count": null,
   "metadata": {},
   "outputs": [],
   "source": [
    "some_condition = True\n",
    "already_looped = False\n",
    "\n",
    "while some_condition and not already_looped:\n",
    "    print(\"This is a while loop that acts as an if statement because it only runs once or not at all.\")\n",
    "    already_looped = True"
   ]
  },
  {
   "cell_type": "markdown",
   "metadata": {},
   "source": [
    "By setting the `already_looped` variable to `True` once the loop runs, and pairing it with the actual `while` condition with an `and` and `not` operator, we ensure the code inside the loop will only run once.\n",
    "\n",
    "**Note:** We will repeat this stupid example on the next chapter when we learn the `break` statement for a more concised - but still stupid - version."
   ]
  },
  {
   "cell_type": "markdown",
   "metadata": {},
   "source": [
    "## the `for` statement, or the \"go through all this paperwork\" loop"
   ]
  },
  {
   "cell_type": "markdown",
   "metadata": {},
   "source": [
    "Like we said at the beggining of the chapter - which I'm hoping you are still reading every time and appreciating ChatGPT's hard work - the `for` loop is present in many other languages as a comprised way of writing a `while` loop with a counter.\n",
    "\n",
    "In Python though, this is not the case (although we will see how to write a `for` loop like this later). The `for` loop is provided an *iterable* object which it will go through. An *iterable* is a structure that contains a number of elements and will provide one of them each time it is asked for it. Lists, keys and values of a dictionary, and the characters of a string are examples of iterables. The `for` loop will run the code once with every element.\n",
    "\n",
    "```\n",
    "for <var> in <iterable>:\n",
    "    <indented-code>\n",
    "```\n",
    "\n",
    "- The `for` keyword starts the for loop.\n",
    "- `<var>` is a variable that will be assigned the value of each element of the iterable. It is the representation of the elements of the iterable inside the loop's code. You can use any name for it, but ideally, like any other variable definition, it should be something that makes sense for you and for anyone reading your code.\n",
    "- `in` is another keyword necessary for the `for` statement. It is used to separate the `<var>` name from the `<iterable>` name.\n",
    "- `<iterable>` is an iterable object that will provide the elements to the loop. Iterables can be lists, dictionaries, strings, and any structure that can provide elements one by one.\n",
    "- After a colon `:` and the proper indentation, `<indented-code>` is the code that is run on every loop, which is the same as saying every time the condition is `True`. In most cases, `<indented-code>` will use the `<var>` variable to do something with the elements of the iterable."
   ]
  },
  {
   "cell_type": "code",
   "execution_count": null,
   "metadata": {},
   "outputs": [],
   "source": [
    "my_list = [\"John\", \"Paul\", \"George\", \"Ringo\"]\n",
    "\n",
    "for beatle in my_list:\n",
    "    print(beatle, \"is a Beatle.\")"
   ]
  },
  {
   "cell_type": "code",
   "execution_count": null,
   "metadata": {},
   "outputs": [],
   "source": [
    "my_phrase = \"I am a cool robot.\"\n",
    "\n",
    "print(\"The phrase is\", my_phrase, \"it is\", len(my_phrase), \"characters long, and I will find all its spaces.\")\n",
    "\n",
    "space_counter = 0\n",
    "\n",
    "for character in my_phrase:\n",
    "    if character == \" \":\n",
    "        print(\"I found a space!\")\n",
    "        space_counter += 1\n",
    "    else:\n",
    "        print(character, \"is not a space.\")\n",
    "\n",
    "print(\"Just ended the loop and found\", space_counter, \"spaces, are you not entertained?\")"
   ]
  },
  {
   "cell_type": "markdown",
   "metadata": {},
   "source": [
    "Let's try to analyze both code blocks togheter. They have a similar structure.\n",
    "\n",
    "- They both first define a variable that will be used as an iterable. The first has a list (of strings) and the other a string (which remember is treated like a list of characters). This is a first sequential part of the code.\n",
    "- Then they both start the loop. We start with the `for` keyword and a variable name, which is used inside the code to represent each element of the itrable. On the first one we chose `beatle` since the list has Beatle's names, and on the second one we chose `character` since the string will iterate (the action of going through an iterable) on its letters.\n",
    "- We separate the variable name with the `in` keyword, after which we provide for with the iterable name. This is the iterable defined on the first line. Note that this has to be already defined or the loop won't be able to run, but the variable name doesn't have to be defined, since it will be defined by the loop itself on each run. In fact, modifying the iterable inside the loop will likely raise an Error.\n",
    "- After the iterable, we have a colon `:` and the indented code. This code will likely include the variable name, that it will use to do something with each element of the iterable. In the first case, we just printed the name of each Beatle, but the second one included a nested `if` and `else` statement to check if the character was a space or not. "
   ]
  },
  {
   "cell_type": "markdown",
   "metadata": {},
   "source": [
    "### The `range()` function, making a counter with a `for` loop"
   ]
  },
  {
   "cell_type": "markdown",
   "metadata": {},
   "source": [
    "Even when the `for` loop does not necessarily include a counter like other programming language, Python provides us with a function called *range* that allows us to create an iterable that we can use as a counter. Let's see how it works.\n",
    "\n",
    "```\n",
    "range(<start>, <stop>, <step>) -> iterable: start, start + step, start + 2*step, ..., start + n*step < stop\n",
    "```\n",
    "\n",
    "- The `range()` function takes three arguments and returns an iterable of numbers.\n",
    "- The first argument `<start>` is the number where the iterable will start at. It is optional, and if not provided it will default to 0.\n",
    "- The second argument `<stop>` is the number where the iterable will stop at, without including it. This means if you provide 10 as `<stop>`, the iterable will go, for example, from 0 to 9. It is mandatory.\n",
    "- The third argument `<step>` is the number that will be added to the iterable on each step. This means if you provide 2 as `<step>`, and 3 as `<start>` the iterable's first numbers will be 3, 5, 7, 9, etc. It is optional, and if not provided it will default to 1.\n",
    "\n",
    "Note how the second argument is mandatory. This means:\n",
    "\n",
    "- we can not run `range()`, without any argument.\n",
    "- if we run `range(number)`, `number` will be the `<stop>` argument, and the defaults will be used for `<start>` and `<step>` (0 and 1, respectively).\n",
    "- if we run `range(number1, number2)`, `number1` will be the `<start>` argument, `number2` will be the `<stop>` argument, and the default will be used for `<step>` (1).\n",
    "- if we run `range(number1, number2, number3)`, `number1` will be the `<start>` argument, `number2` will be the `<stop>` argument, and `number3` will be the `<step>` argument.\n",
    "\n",
    "If we want to use `range` on a for loop, we just have to provide it as the iterable. We can also transform it to a list to get a quick list of numbers or check what numbers it will iterate on before using it."
   ]
  },
  {
   "cell_type": "code",
   "execution_count": null,
   "metadata": {},
   "outputs": [],
   "source": [
    "my_range = range(10) # the same as range(0, 10, 1), starts at 0, ends before 10 and increments by 1\n",
    "\n",
    "print(\"my_range is\", list(my_range))\n",
    "\n",
    "for number in my_range:\n",
    "    print(number, \"is a number in my_range.\")\n",
    "\n",
    "for number in range(2, 7): # the same as range(2, 7, 1), starts at 2, ends before 7 and increments by 1\n",
    "    print(number, \"is a number in the range(2, 7) we defined in-place\")\n",
    "\n",
    "for number in range(0, 10, 2):\n",
    "    print(number, \"is a number in the range(0, 10, 2) we defined in-place with a step\")\n",
    "\n",
    "print(\"and that is it for ranges!\")"
   ]
  },
  {
   "cell_type": "markdown",
   "metadata": {},
   "source": [
    "I presented you three examples, not only changing the arguments of `range`, but also using both a range assigned to a variable and another used directly on the `for` loop, in the iterable part. Note how all can have the same variable name, since after each loop ends, it won't use that var name anymore and the next can use it. That doesn't mean we can't use different names too."
   ]
  },
  {
   "cell_type": "markdown",
   "metadata": {},
   "source": [
    "### The `enumerate()` function, including a counter on a `for` loop"
   ]
  },
  {
   "cell_type": "markdown",
   "metadata": {},
   "source": [
    "Now what if we want to use a counter AND go through, for example, a list of elements? We could use a `while` that could naturally use a counter as its condition, and access the elements of the list by indexing the counter, like this:"
   ]
  },
  {
   "cell_type": "code",
   "execution_count": null,
   "metadata": {},
   "outputs": [],
   "source": [
    "shop_list = [\"apples\", \"bananas\", \"oranges\", \"pears\", \"grapes\"]\n",
    "\n",
    "index = 0\n",
    "while index < len(shop_list):\n",
    "    print(\"The thing number\", index, \"i need to buy is\", shop_list[index])\n",
    "    index += 1"
   ]
  },
  {
   "cell_type": "markdown",
   "metadata": {},
   "source": [
    "By using `index < len(shop_list)` as our boolean expression, we make sure the index will not overflow the list. If the expression `shop_list[index]` weirds you out, remember this is indexing a list, you can go back to the list chapter to review it.\n",
    "\n",
    "But we can do something similar with a `for` loop and the `enumerate()` function. This function takes an iterable and returns a new iterable that will hand out two elements at a time: the first is the current index of the iterable, and the second is the current element of the iterable.\n",
    "\n",
    "```\n",
    "enumerate(<iterable>) -> iterable: (0, <iterable[0]>), (1, <iterable[1]>), ..., (n, <iterable[n]>)\n",
    "```\n",
    "\n",
    "I have to admit the last line most surely does not clarify much, but let's instead see it in action. `enumerate()` can also be assigned to a variable like `range()`, but it's REALLY uncommon."
   ]
  },
  {
   "cell_type": "code",
   "execution_count": null,
   "metadata": {},
   "outputs": [],
   "source": [
    "shop_list = [\"apples\", \"bananas\", \"oranges\", \"pears\", \"grapes\"]\n",
    "shop_list_enumerate = enumerate(shop_list)\n",
    "\n",
    "print(\"shop_list_enumerate is\", list(shop_list_enumerate))\n",
    "\n",
    "for index, item in enumerate(shop_list): # we can also run enumerate in-place, this is what's most common.\n",
    "    print(\"The thing number\", index, \"i need to buy is\", item)"
   ]
  },
  {
   "cell_type": "markdown",
   "metadata": {},
   "source": [
    "As you can see, this is a more concised way of doing the same as above, specially if you consider that the second and third line are extra to what we needed, and I just added them to see that you CAN assign enumerate to a variable and print it as a list.\n",
    "\n",
    "Also note how the `enumerate()` function returns two variables, so in the variable name place of the `for` loop we provide two names, separated by a comma `,`. This is because this type of iterables actually return tuples with each value (you can see it above when we printed the enumerate result), and this process is called *unpacking* a tuple.\n",
    "\n",
    "This is not the only case where the `for` loop can use *unpacking*. There are plenty, but we will see the most common: `zip()`."
   ]
  },
  {
   "cell_type": "markdown",
   "metadata": {},
   "source": [
    "### The `zip()` function, packing iterables"
   ]
  },
  {
   "cell_type": "markdown",
   "metadata": {},
   "source": [
    "The `zip()` function takes two or more iterables as parameters and returns a new iterable that will hand out tuples with one element of each iterable at a time. This allows us to iterate on multiple iterables at the same time. One thing to consider is that all iterables must have the same length, or else the `zip()` function will stop when the shortest iterable ends.\n",
    "\n",
    "```\n",
    "zip(<iterable1>, <iterable2>, ...) -> iterable: (<iterable1[0]>, <iterable2[0]>, ...), (<iterable1[1]>, <iterable2[1]>, ...), ..., (<iterable1[n]>, <iterable2[n]>, ...)\n",
    "```\n",
    "\n",
    "Again, maybe not the best way to showcase it, but it might be more clear (clearer?) to see it in action."
   ]
  },
  {
   "cell_type": "code",
   "execution_count": null,
   "metadata": {},
   "outputs": [],
   "source": [
    "shop_list = [\"apples\", \"bananas\", \"oranges\", \"pears\", \"grapes\"]\n",
    "kids_toys = [\"legos\", \"barbies\", \"hot wheels\", \"nerf guns\", \"teddy bears\"]\n",
    "music_genres = [\"rock\", \"pop\", \"jazz\", \"classical\", \"rap\"]\n",
    "\n",
    "super_zip = zip(shop_list, kids_toys, music_genres)\n",
    "\n",
    "print(\"super_zip is\", list(super_zip))\n",
    "\n",
    "for shop_item, toy, genre in zip(shop_list, kids_toys, music_genres):\n",
    "    print(\"I need to buy\", shop_item, \"for my kid, who likes playing with\", toy, \"while listening to\", genre, \"music.\")"
   ]
  },
  {
   "cell_type": "markdown",
   "metadata": {},
   "source": [
    "In a way, the `enumerate(iterable)` is the same as `zip(range(len(iterable)), iterable)`. I obviously don't want you to stop using enumerate, but understanding why this is the case might help you understand how these three functions work."
   ]
  },
  {
   "cell_type": "code",
   "execution_count": null,
   "metadata": {},
   "outputs": [],
   "source": [
    "shop_list = [\"apples\", \"bananas\", \"oranges\", \"pears\", \"grapes\"]\n",
    "kids_toys = [\"legos\", \"barbies\", \"hot wheels\", \"nerf guns\", \"teddy bears\"]\n",
    "music_genres = [\"rock\", \"pop\", \"jazz\", \"classical\"]\n",
    "\n",
    "super_zip = zip(shop_list, kids_toys, music_genres)\n",
    "\n",
    "print(\"super_zip is\", list(super_zip))\n",
    "\n",
    "for shop_item, toy, genre in zip(shop_list, kids_toys, music_genres):\n",
    "    print(\"I need to buy\", shop_item, \"for my kid, who likes playing with\", toy, \"while listening to\", genre, \"music.\")\n",
    "\n",
    "print(\"and the loop ended without the last elements of shop_list, that is\", shop_list[-1], \", and the last element of kids_toys, that is\", kids_toys[-1], \", being printed because music_genres had one less item:\")\n",
    "print(\"shop_list has\", len(shop_list), \"elements\")\n",
    "print(\"kids_toys has\", len(kids_toys), \"elements\")\n",
    "print(\"music_genres has\", len(music_genres), \"elements\")"
   ]
  },
  {
   "cell_type": "markdown",
   "metadata": {},
   "source": [
    "## Two coins of the same side\n",
    "\n",
    "`while` and `for` loop are two ways of making loops. The way you use each one is different, so they are preferable in different situations. I normally decide by one or the other depending on what the loops depends on. Do I have to loop to go through elements of an iterable? Then I use a `for` loop. Is the loop independent of an iterable? Does it depend on an external condition? Then I use a `while` loop. In most cases you can find a way to use both, and as an example I will do some excercises with both types.\n",
    "\n",
    "**Note:** Since we haven't really seen ways in which external conditions can affect our code, you will likely feel like the `for` loop in these examples ir better, and that is probably true, but not because it is better in every case, we just can't see the usecase where `while` outshines `for` yet."
   ]
  },
  {
   "cell_type": "markdown",
   "metadata": {},
   "source": [
    "**Go through the elements of a shopping list and print them one by one with their position on the list.**(this is a copy of one of the examples above, but some of you might just be going for the examples, so here it is)"
   ]
  },
  {
   "cell_type": "code",
   "execution_count": null,
   "metadata": {},
   "outputs": [],
   "source": [
    "shopping_list = [\"apples\", \"bananas\", \"oranges\", \"pears\", \"grapes\"]\n",
    "\n",
    "item_index = 0\n",
    "\n",
    "while item_index < len(shopping_list):\n",
    "    print(\"On the\", item_index, \"position of the shopping list, there is\", shopping_list[item_index])\n",
    "    item_index += 1"
   ]
  },
  {
   "cell_type": "code",
   "execution_count": null,
   "metadata": {},
   "outputs": [],
   "source": [
    "shopping_list = [\"apples\", \"bananas\", \"oranges\", \"pears\", \"grapes\"]\n",
    "\n",
    "for item_index, shop_item in enumerate(shopping_list):\n",
    "    print(\"On the position\", item_index, \"of the shopping list, there is\", shop_item)"
   ]
  },
  {
   "cell_type": "markdown",
   "metadata": {},
   "source": [
    "**Detect vowels and spaces on a string entered by a user, and where they are positioned on the string. Finish by printing how many spaces you found**"
   ]
  },
  {
   "cell_type": "code",
   "execution_count": null,
   "metadata": {},
   "outputs": [],
   "source": [
    "user_entered = \"Hi, my name is tsk tsk Slim Shady\"\n",
    "\n",
    "character_index = 0\n",
    "\n",
    "space_counter = 0\n",
    "list_of_vowels = [\"a\", \"e\", \"i\", \"o\", \"u\"]\n",
    "\n",
    "while character_index < len(user_entered):\n",
    "    if user_entered[character_index] == \" \":\n",
    "        print(\"I found a space at\", character_index, \"!!\")\n",
    "        space_counter += 1\n",
    "    elif user_entered[character_index].lower() in list_of_vowels: # we use .lower() to force the character in the string to be lowercase, or else it won't find it in the list of vowels\n",
    "        print(\"I found the vowel\", user_entered[character_index], \"at\", character_index, \"!!\")\n",
    "    else:\n",
    "        print(user_entered[character_index], \"is not a space or a vowel.\")\n",
    "    character_index += 1\n",
    "\n",
    "print(\"The string has\", space_counter, \"spaces.\")"
   ]
  },
  {
   "cell_type": "code",
   "execution_count": null,
   "metadata": {},
   "outputs": [],
   "source": [
    "user_entered = \"Hi, my name is tsk tsk Slim Shady\"\n",
    "\n",
    "space_counter = 0\n",
    "list_of_vowels = [\"a\", \"e\", \"i\", \"o\", \"u\"]\n",
    "\n",
    "for character_index, character in enumerate(user_entered):\n",
    "    if character == \" \":\n",
    "        print(\"I found a space at\", character_index, \"!!\")\n",
    "        space_counter += 1\n",
    "    elif character.lower() in list_of_vowels: # we use .lower() to force the character in the string to be lowercase, or else it won't find it in the list of vowels\n",
    "        print(\"I found the vowel\", character, \"at\", character_index, \"!!\")\n",
    "    else:\n",
    "        print(character, \"is not a space or a vowel.\")"
   ]
  },
  {
   "cell_type": "markdown",
   "metadata": {},
   "source": [
    "**Print all the integers from 12 to 25 (inclusively) whose squares are multiple of 3. Include the square in the print too!**"
   ]
  },
  {
   "cell_type": "code",
   "execution_count": null,
   "metadata": {},
   "outputs": [],
   "source": [
    "base = 12\n",
    "\n",
    "while base <= 25:\n",
    "    square = base ** 2\n",
    "    if  square % 3 == 0:\n",
    "        print(\"The square of\", base, \"which is\", square, \"is divisible by 3.\")\n",
    "    base += 1"
   ]
  },
  {
   "cell_type": "code",
   "execution_count": null,
   "metadata": {},
   "outputs": [],
   "source": [
    "for base in range(12, 26): # since range stops before the <stop> argument, if we want to include 25 we need to set <stop> to 26\n",
    "    square = base ** 2\n",
    "    if  square % 3 == 0:\n",
    "        print(\"The square of\", base, \"which is\", square, \"is divisible by 3.\")"
   ]
  },
  {
   "cell_type": "markdown",
   "metadata": {},
   "source": [
    "## That's it!\n",
    "\n",
    "That's it for this chapter. You can *repeat* it as much as you want, just add a loop! (will the puns ever end? will their quality ever improve? is this even a pun?)\n",
    "\n",
    "### We learned:\n",
    "\n",
    "- How to use the `while` statement to create a loop that runs while a condition is `True`.\n",
    "- How to use the `for` statement to create a loop that runs for every element of an iterable.\n",
    "- How to improve the `for` statement with the `range()`, `enumerate()` and `zip()` functions.\n",
    "- How to use the `while` and `for` statements to solve the same problem.\n",
    "\n",
    "### Next chapter we will:\n",
    "\n",
    "- Learn the tools to change the loops structure itself, in summary BREAKING THE BREAKING OF THE SEQUENCE :O."
   ]
  }
 ],
 "metadata": {
  "language_info": {
   "name": "python"
  },
  "orig_nbformat": 4
 },
 "nbformat": 4,
 "nbformat_minor": 2
}
