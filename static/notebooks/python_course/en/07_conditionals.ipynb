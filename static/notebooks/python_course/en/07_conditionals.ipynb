{
 "cells": [
  {
   "cell_type": "markdown",
   "metadata": {},
   "source": [
    "# 07 - Life `if` what happens while you make decisions\n",
    "\n",
    "We are starting with one of the most essential concepts in programming: **conditionals**. Conditionals are the way we make decisions in our programs. There are only few cases where a program can function without conditionals, because this would mean our program won't be able to make decisions, and in turn not be able to react to different situations."
   ]
  },
  {
   "cell_type": "markdown",
   "metadata": {},
   "source": [
    "## The `if` statement"
   ]
  },
  {
   "cell_type": "markdown",
   "metadata": {},
   "source": [
    "As we saw before, there is a a specific structure to indicate Python that we are using these conditionals. The structure consists of:\n",
    "\n",
    "```\n",
    "if <condition>:\n",
    "    <indented-code>\n",
    "```\n",
    "\n",
    "- The `if` keyword indicates that we are starting a conditional.\n",
    "- The `<condition>` is an expression that will be evaluated to either `True` or `False`. It could be a simple boolean variable, or as we will see below, an expression that evaluates to a boolean.\n",
    "- The `<indented-code>` is the code that will be executed if the condition is `True`. It is indented to indicate that it is part of the `if` statement. If there is no `else` or `elif` statement after, this lines of code will just be skipped."
   ]
  },
  {
   "cell_type": "code",
   "execution_count": null,
   "metadata": {},
   "outputs": [],
   "source": [
    "my_boolean = True\n",
    "\n",
    "if my_boolean:\n",
    "    print(\"This print only happens if my_boolean is True\")\n",
    "\n",
    "print(\"This print happens regardless of my_boolean's value, because it is not indented\")"
   ]
  },
  {
   "cell_type": "markdown",
   "metadata": {},
   "source": [
    "## The `else` statement"
   ]
  },
  {
   "cell_type": "markdown",
   "metadata": {},
   "source": [
    "The `else` statement only works in conjunction with an `if` statement. It is used to indicate that if the condition of the `if` statement is `False`, then the code inside the `else` statement will be executed.\n",
    "\n",
    "```\n",
    "<previous-if-elif>\n",
    "else:\n",
    "    <indented-code>\n",
    "```\n",
    "\n",
    "As you can see, since `else` uses the same condition as the `if` statement, but negated, it does not need a condition. Then we only use the colon `:` and the indentation to mark the code lines that are part of the `else` statement."
   ]
  },
  {
   "cell_type": "code",
   "execution_count": null,
   "metadata": {},
   "outputs": [],
   "source": [
    "my_boolean = False\n",
    "\n",
    "if my_boolean:\n",
    "    print(\"This print only happens if my_boolean is True\")\n",
    "else:\n",
    "    print(\"This print only happens if my_boolean is False\")\n",
    "\n",
    "print(\"This print happens regardless of my_boolean's value, because it is not indented\")"
   ]
  },
  {
   "cell_type": "markdown",
   "metadata": {},
   "source": [
    "## The `elif` statement\n",
    "\n",
    "`elif` stands for `else if`, and as the name suggests, it combines the effect of `else` and `if`. It is also used in conjuction with and `if` statement and, like the `else` statement, its code will be executed if the condition of that `if` statement is `False`. However, like the `if` statement, it includes a condition that must evaluate to `True` in order for the code to be executed.\n",
    "This means the code under an `elif` statement will only be executed if the condition of the previous `if` (or another `elif`) statement is `False` and its own condition is `True`.\n",
    "\n",
    "```\n",
    "<previous-if-elif>\n",
    "elif <condition>:\n",
    "    <indented-code>\n",
    "```\n",
    "\n",
    "- `elif` is used after an `if` statement, or another `elif` statement: `<previous-if-elif>`\n",
    "- `elif` keyword indicates that we are starting the conditional.\n",
    "- The `<condition>` is an expression that will be evaluated to either `True` or `False`. It could be a simple boolean variable, or as we will see below, an expression that evaluates to a boolean.\n",
    "- The `<indented-code>` is the code that will be executed if the condition is `True`. It is indented to indicate that it is part of the `elif` statement. If there is no `else` or `elif` statement after, this lines of code will just be skipped."
   ]
  },
  {
   "cell_type": "code",
   "execution_count": null,
   "metadata": {},
   "outputs": [],
   "source": [
    "my_boolean1 = False\n",
    "my_boolean2 = True\n",
    "\n",
    "if my_boolean1:\n",
    "    print(\"This print only happens if my_boolean1 is True\")\n",
    "elif my_boolean2:\n",
    "    print(\"This print only happens if my_boolean1 is False, from the previous if, and my_boolean2 is True\")\n",
    "else:\n",
    "    print(\"This print only happens if my_boolean1 is False, from the previous if, and my_boolean2 is False, from the previous elif\")\n",
    "\n",
    "print(\"This print happens regardless of my_boolean1's and my_boolean2's values, because it is not indented\")"
   ]
  },
  {
   "cell_type": "markdown",
   "metadata": {},
   "source": [
    "On a single *conditional* block we will find at least one `if` statement, an optional `else` statement, and none to as many `elif`'s as conditions we want to check. Each `elif` code blck will be executed if the `if` and/or other `elif`'s above it are `False` and its own condition is `True`."
   ]
  },
  {
   "cell_type": "code",
   "execution_count": null,
   "metadata": {},
   "outputs": [],
   "source": [
    "my_boolean1 = False\n",
    "my_boolean2 = False\n",
    "my_boolean3 = True\n",
    "my_boolean4 = True\n",
    "\n",
    "if my_boolean1:\n",
    "    print(\"This print only happens if my_boolean1 is True\")\n",
    "elif my_boolean2:\n",
    "    print(\"This print only happens if my_boolean1 is False, from the previous if, and my_boolean2 is True\")\n",
    "elif my_boolean3:\n",
    "    print(\"This print only happens if my_boolean1 and my_boolean2 are False, from the previous if and elif, and my_boolean3 is True\")\n",
    "elif my_boolean4:\n",
    "    print(\"This print only happens if my_boolean1, my_boolean2 and my_boolean3 are False, from the previous if and elif's, and my_boolean4 is True\")\n",
    "else:\n",
    "    print(\"This print only happens if my_boolean1, my_boolean2, my_boolean3 and my_boolean4 are False, from the previous if and elif's\")\n",
    "\n",
    "print(\"This print happens regardless of my_boolean1's, my_boolean2's, my_boolean3's and my_boolean4's values, because it is not indented\")"
   ]
  },
  {
   "cell_type": "markdown",
   "metadata": {},
   "source": [
    "Using `elif` is not the same as concatenating `if` statements, since the latter will only evaluate their condition and not care about the conditions above. Under certain conditions they might end up working in the same way (actually if the statements are independent, they will always work the same way), but in general they are not the same."
   ]
  },
  {
   "cell_type": "code",
   "execution_count": null,
   "metadata": {},
   "outputs": [],
   "source": [
    "my_boolean1 = False\n",
    "my_boolean2 = False\n",
    "my_boolean3 = True\n",
    "my_boolean4 = True\n",
    "\n",
    "if my_boolean1:\n",
    "    print(\"This print only happens if my_boolean1 is True\")\n",
    "if my_boolean2:\n",
    "    print(\"This print only happens if my_boolean2 is True\")\n",
    "if my_boolean3:\n",
    "    print(\"This print only happens if my_boolean3 is True\")\n",
    "if my_boolean4:\n",
    "    print(\"This print only happens if my_boolean4 is True\")\n",
    "else:\n",
    "    print(\"This print only happens if my_boolean4 is False\")\n",
    "\n",
    "print(\"This print happens no matter what\")"
   ]
  },
  {
   "cell_type": "markdown",
   "metadata": {},
   "source": [
    "Note how in this last example, the code under `else` depends only on the last `if` statement, because by not using `elif` we are making *independent* conditional blocks.\n",
    "\n",
    "I encourage you to change the values of `my_boolean`'s on the last 3 code blocks to see how each behaves different (or sometimes the same). For example, turn all variables to `True`, or make them all `False`. I believe this is the conclusively the best way to understand this concepts and the specific of each case, instead of leaving it all to theory, which is still good and what we will continue doing now."
   ]
  },
  {
   "cell_type": "markdown",
   "metadata": {},
   "source": [
    "## from boolean vars to boolean exps\n",
    "\n",
    "When we defined the `if` and `elif` statements, we refered to `<condition>` as a boolean variable or boolean expression. This means the condition can be replaced by anything that Python can in the end evaluate to a boolean value. This obviously includes boolean variables, also functions that return a boolean value - we will see functions in the next section, but we already have some idea of what functions are, with `print()` and `type()`, though this don't return booleans -, and also boolean expressions, which are special operations that return a boolean value. "
   ]
  },
  {
   "cell_type": "markdown",
   "metadata": {},
   "source": [
    "### `==` operator: equality. Is this what I think it is?"
   ]
  },
  {
   "cell_type": "markdown",
   "metadata": {},
   "source": [
    "On the first chapters, we mentioned that the assignment operator `=`, that is normally used in math as an equal sign, is not used in Python for equality, but as its name suggest, for assignment of values to a variable. The equal sign in Python is `==`. This is used in a boolean expression to test if the values on both of its sides are equal. This values can be of any type, but the expression will *ALWAYS* return a boolean, `True` if the values are equal, and `False` if they are not.\n",
    "\n",
    "**Note:** This equality is also type-sensitive, so `1 == \"1\"` will return `False`, because one is an integer and the other is a string, but it groups integers and floats under the numeric type, so `1 == 1.0` will return `True`, even when one is an integer and the other is a float. Other languages, like Javascript, have one type-sensitive and one type-insensitive equality operators, but in Python we will have to make both values to the same type if we want to compare them type-unsensitively (that is one word to play on hangman!)."
   ]
  },
  {
   "cell_type": "code",
   "execution_count": 4,
   "metadata": {},
   "outputs": [
    {
     "name": "stdout",
     "output_type": "stream",
     "text": [
      "this_is_one == this_is_also_one:\t True\n",
      "this_is_one == this_is_one_float:\t True\n",
      "this_is_one == this_is_one_string:\t False\n",
      "this_is_one == this_is_two:\t\t False\n"
     ]
    }
   ],
   "source": [
    "this_is_one = 1\n",
    "this_is_also_one = 1\n",
    "this_is_one_float = 1.0\n",
    "this_is_one_string = \"1\"\n",
    "this_is_two = 2\n",
    "\n",
    "print(\"this_is_one == this_is_also_one:\\t\", this_is_one == this_is_also_one)\n",
    "print(\"this_is_one == this_is_one_float:\\t\", this_is_one == this_is_one_float)\n",
    "print(\"this_is_one == this_is_one_string:\\t\", this_is_one == this_is_one_string)\n",
    "print(\"this_is_one == this_is_two:\\t\\t\", this_is_one == this_is_two)"
   ]
  },
  {
   "cell_type": "markdown",
   "metadata": {},
   "source": [
    "**Example:** We could use this operator on an expression, with an `if` statement, to check if the password the user entered is correct:"
   ]
  },
  {
   "cell_type": "code",
   "execution_count": null,
   "metadata": {},
   "outputs": [],
   "source": [
    "correct_password = \"1234\"\n",
    "user_entered_password = \"1234\"\n",
    "\n",
    "if user_entered_password == correct_password:\n",
    "    print(\"Access granted\")\n",
    "else:\n",
    "    print(\"Access denied, incorrect values\")"
   ]
  },
  {
   "cell_type": "markdown",
   "metadata": {},
   "source": [
    "### `!=` operator: inequality. Then this is not..?"
   ]
  },
  {
   "cell_type": "markdown",
   "metadata": {},
   "source": [
    "The inequeality operator `!=` is the inverse of the equality operator. It will return `True` if the values on both sides are not equal, and `False` if they are equal. This operator is also type-sensitive (except for ints and floats).\n",
    "\n",
    "**Note:** Although it does not translate the same to machine bits and bytes, theorically an `<inequality-expression>` can be replaced by a `not <equality-expression>`. "
   ]
  },
  {
   "cell_type": "code",
   "execution_count": 5,
   "metadata": {},
   "outputs": [
    {
     "name": "stdout",
     "output_type": "stream",
     "text": [
      "this_is_one != this_is_also_one:\t False\n",
      "this_is_one != this_is_one_float:\t False\n",
      "this_is_one != this_is_one_string:\t True\n",
      "this_is_one != this_is_two:\t\t True\n",
      "not this_is_one == this_is_two:\t\t True\n"
     ]
    }
   ],
   "source": [
    "this_is_one = 1\n",
    "this_is_also_one = 1\n",
    "this_is_one_float = 1.0\n",
    "this_is_one_string = \"1\"\n",
    "this_is_two = 2\n",
    "\n",
    "print(\"this_is_one != this_is_also_one:\\t\", this_is_one != this_is_also_one)\n",
    "print(\"this_is_one != this_is_one_float:\\t\", this_is_one != this_is_one_float)\n",
    "print(\"this_is_one != this_is_one_string:\\t\", this_is_one != this_is_one_string)\n",
    "print(\"this_is_one != this_is_two:\\t\\t\", this_is_one != this_is_two)\n",
    "print(\"not this_is_one == this_is_two:\\t\\t\", not this_is_one == this_is_two)"
   ]
  },
  {
   "cell_type": "markdown",
   "metadata": {},
   "source": [
    "As you can see, the results are the exact inverse as from the equality examples, and I also repeated the last one as a `no <equality>` to show the result is the same.\n",
    "\n",
    "**Example:** A usecase of this could also be the password example but on a \"rotated\" logic, but to give you another example, and review something from previous chapters, we can use this to detect even and odd numbers. Remember that the modulo operator `%` returns the remainder of a division, then dividing a number by two and checking if the remainder is zero, will tell us if the number is even or odd. But instead, we will use the inequality operator, so we will check if the remainder is not zero, and then we will know the number is odd."
   ]
  },
  {
   "cell_type": "code",
   "execution_count": null,
   "metadata": {},
   "outputs": [],
   "source": [
    "even_or_odd = 5\n",
    "\n",
    "if even_or_odd % 2 != 0:\n",
    "    print(\"odd\")\n",
    "else:\n",
    "    print(\"even\")"
   ]
  },
  {
   "cell_type": "markdown",
   "metadata": {},
   "source": [
    "### `>` and `<` operators: greater than and less than. Only up or down from here.."
   ]
  },
  {
   "cell_type": "markdown",
   "metadata": {},
   "source": [
    "Finally, something that works similarly to math! The `>` and `<` operators are used to compare two values in the same way we used it on out school math courses. `>`, sometimes called greater-than since math is written left to right, returns `True` if the value on the left is greater than the value on the right, and `False` if it is not. `<`, sometimes called less-than, returns `True` if the value on the left is less than the value on the right, and `False` if it is not.\n",
    "\n",
    "Although there are some exceptions, both operators work with numeric types, and other types should be transformed, like a list to its size with the `len()` function, and return a boolean value.\n",
    "\n",
    "Nothe that this don't include the equal case, so both will return false if the values are equal. Keep reading to see how to include the equal case."
   ]
  },
  {
   "cell_type": "code",
   "execution_count": 7,
   "metadata": {},
   "outputs": [
    {
     "name": "stdout",
     "output_type": "stream",
     "text": [
      "this_is_one < this_is_also_one:\t\t False\n",
      "this_is_one < this_is_two:\t\t True\n",
      "this_is_one > this_is_also_one:\t\t False\n",
      "this_is_one > this_is_two:\t\t False\n"
     ]
    }
   ],
   "source": [
    "this_is_one = 1\n",
    "this_is_also_one = 1\n",
    "this_is_two = 2\n",
    "\n",
    "print(\"this_is_one < this_is_also_one:\\t\\t\", this_is_one < this_is_also_one)\n",
    "print(\"this_is_one < this_is_two:\\t\\t\", this_is_one < this_is_two)\n",
    "print(\"this_is_one > this_is_also_one:\\t\\t\", this_is_one > this_is_also_one)\n",
    "print(\"this_is_one > this_is_two:\\t\\t\", this_is_one > this_is_two)"
   ]
  },
  {
   "cell_type": "markdown",
   "metadata": {},
   "source": [
    "### `>=` and `<=` operators: greater than or equal and less than or equal. Okay maybe also the same too.."
   ]
  },
  {
   "cell_type": "markdown",
   "metadata": {},
   "source": [
    "`>=` and `<=` are the greater-than-or-equal and less-than-or-equal operators. They work the same as the previous ones, but they include the equal case, so they will return `True` if the values are equal. All other cases are the same as the greater-than and less-than operators, respectively.\n",
    "\n",
    "**Note:** The equal sign goes always after the greater-than or less-than sign. There is no `=<` or `=>` operators. "
   ]
  },
  {
   "cell_type": "code",
   "execution_count": 8,
   "metadata": {},
   "outputs": [
    {
     "name": "stdout",
     "output_type": "stream",
     "text": [
      "this_is_one <= this_is_also_one:\t\t True\n",
      "this_is_one <= this_is_two:\t\t\t True\n",
      "this_is_one >= this_is_also_one:\t\t True\n",
      "this_is_one >= this_is_two:\t\t\t False\n"
     ]
    }
   ],
   "source": [
    "this_is_one = 1\n",
    "this_is_also_one = 1\n",
    "this_is_two = 2\n",
    "\n",
    "print(\"this_is_one <= this_is_also_one:\\t\\t\", this_is_one <= this_is_also_one)\n",
    "print(\"this_is_one <= this_is_two:\\t\\t\\t\", this_is_one <= this_is_two)\n",
    "print(\"this_is_one >= this_is_also_one:\\t\\t\", this_is_one >= this_is_also_one)\n",
    "print(\"this_is_one >= this_is_two:\\t\\t\\t\", this_is_one >= this_is_two)"
   ]
  },
  {
   "cell_type": "markdown",
   "metadata": {},
   "source": [
    "Comparing with the previous examples, you can see that the results are the same, except for the equal cases (`this_is_one` and `this_is_also_one`), which now return `True`.\n",
    "\n",
    "If you remember from math theory, the opposite of greater-than is not less-than but less-than-or-equal. This is because if a number is not greater than another number, then it has to be less or equal to it. Likewise, the opposite of less-than is not greater-than but greater-than-or-equal. It also means if we use a greater-than on an `if` statement followed by an `else` statement, that last `else` will work as another `if` with a less-than-or-equal operator.\n",
    "\n",
    "**Example:** If you go back to the last chapter, we used the less-than expression on a while loop, to run some lines of code until a number exceeded the value 5. When working with conditional blocks, we could use this operators to limit the value of a number input by the user. We will limit the input from 1 to 10, if it is greater we will modify it to 10, and if it is less we will modify it to 1. We will use greater-than and less-than, but we could also use greater-than-or-equal and less-than-or-equal."
   ]
  },
  {
   "cell_type": "code",
   "execution_count": 1,
   "metadata": {},
   "outputs": [
    {
     "name": "stdout",
     "output_type": "stream",
     "text": [
      "User entered: 15\n",
      "Result: 10\n"
     ]
    }
   ],
   "source": [
    "user_entered_number = 15\n",
    "\n",
    "print(\"User entered:\", user_entered_number)\n",
    "\n",
    "if user_entered_number < 1:\n",
    "    user_entered_number = 1\n",
    "elif user_entered_number > 10:\n",
    "    user_entered_number = 10\n",
    "\n",
    "print(\"Result:\", user_entered_number)"
   ]
  },
  {
   "cell_type": "markdown",
   "metadata": {},
   "source": [
    "### The `in` operator: is this in that?"
   ]
  },
  {
   "cell_type": "markdown",
   "metadata": {},
   "source": [
    "One *really* interesting and *really* commonly used operator is the `in` operator. This operator takes two values, the first can be anything, but the second must be a complex type - like a list or tuple - and it will return `True` if the first value is included at least once in the second value, and `False` if it is not. It is used to check if a value is included in a list or a dictionary has some key.\n",
    "\n",
    "It can also be paired with the `not` operator to check if the first value is not included anywhere in the second value. The resulting syntax is `not in`."
   ]
  },
  {
   "cell_type": "code",
   "execution_count": null,
   "metadata": {},
   "outputs": [],
   "source": [
    "shop_list = [\"apple\", \"banana\", \"orange\", \"pear\", \"grape\"]\n",
    "student_grades = {\"John\": 8.5, \"Jane\": 9.1, \"Jack\": 7.5, \"Jill\": 8.9}\n",
    "\n",
    "print(\"Is 'apple' in shop_list?\\t\\t\", \"apple\" in shop_list)\n",
    "print(\"Is 'pineapple' in shop_list?\\t\\t\", \"pineapple\" in shop_list)\n",
    "print(\"Is 'apple' not in shop_list?\\t\\t\", \"apple\" not in shop_list)\n",
    "print(\"Is 'pineapple' not in shop_list?\\t\", \"pineapple\" not in shop_list)\n",
    "\n",
    "print(\"Is 'John' in student_grades?\\t\\t\", \"John\" in student_grades.keys())\n",
    "print(\"Is 'Bob' in student_grades?\\t\\t\", \"Bob\" in student_grades.keys())"
   ]
  },
  {
   "cell_type": "markdown",
   "metadata": {},
   "source": [
    "## Combining boolean expressions\n",
    "\n",
    "The boolean operations we saw on the *operations* chapter are also aplicable to boolean expressions. This means we can combine boolean expressions with the `and`, `or` and `not` operators. This is useful to check multiple conditions at the same time, or to negate a condition. Remember, as a refresher, that this operators handle boolean values and return boolean values, based on the truth tables:\n",
    "\n",
    "| A | B | A and B | A or B | not A | not B |\n",
    "|---|---|---------|--------|-------|-------|\n",
    "| T | T |    T    |    T   |   F   |   F   |\n",
    "| T | F |    F    |    T   |   F   |   T   |\n",
    "| F | T |    F    |    T   |   T   |   F   |\n",
    "| F | F |    F    |    F   |   T   |   T   |\n",
    "\n",
    "Now this `A` and `B` values can not only be boolean variables, but also boolean expressions (and functions with boolean returns, but this is for later)\n",
    "\n",
    "**Let's go directly to an example:** We will define a variable `user_enterred_number` to represent the user input. This input will only be valid if it is a number between 1 and 10. Also if another variable called `accept_zero` is `True`, we will accept 0 as an input. There are plenty of way to achieve this, here is one."
   ]
  },
  {
   "cell_type": "code",
   "execution_count": null,
   "metadata": {},
   "outputs": [],
   "source": [
    "# defining variables\n",
    "user_entered_number = 15\n",
    "accept_zero = True\n",
    "\n",
    "print(\"User entered:\", user_entered_number)\n",
    "\n",
    "# first let's check if the input is a number\n",
    "if not (type(user_entered_number) == int or type(user_entered_number) == float):\n",
    "    print(\"Can't validate, input must be int or float\")\n",
    "# now let's check if the input is between 1 and 10\n",
    "elif user_entered_number > 1 and user_entered_number < 10:\n",
    "    print(\"Valid input!\")\n",
    "# now let's check if the input is 0 and if we accept 0\n",
    "elif user_entered_number == 0 and accept_zero:\n",
    "    print(\"Valid input!\")\n",
    "# if no other if statement was true, then the input is invalid\n",
    "else:\n",
    "    print(\"Invalid input!\")"
   ]
  },
  {
   "cell_type": "markdown",
   "metadata": {},
   "source": [
    "## One final note:\n",
    "\n",
    "On the following chapters we will deal with the other forms of non-sequential programming, which are loops, `for` loops and `while` loops. Many of the concepts we dealt with on this chapter, like boolean expressions, will be used on those chapters as well, so make sure you have them well understood before moving on."
   ]
  },
  {
   "cell_type": "markdown",
   "metadata": {},
   "source": [
    "## That's it!\n",
    "\n",
    "That's it for this chapter. `if` you can, continue on to the next one!\n",
    "\n",
    "### We learned:\n",
    "\n",
    "- How to use `if`, `else` and `elif` statements to make decisions in our programs.\n",
    "- How to use boolean expressions to check conditions.\n",
    "- How to use boolean operators to combine boolean expressions.\n",
    "\n",
    "### Next chapter we will:\n",
    "\n",
    "- Learn about for and while loops."
   ]
  }
 ],
 "metadata": {
  "kernelspec": {
   "display_name": "base",
   "language": "python",
   "name": "python3"
  },
  "language_info": {
   "codemirror_mode": {
    "name": "ipython",
    "version": 3
   },
   "file_extension": ".py",
   "mimetype": "text/x-python",
   "name": "python",
   "nbconvert_exporter": "python",
   "pygments_lexer": "ipython3",
   "version": "3.10.9"
  },
  "orig_nbformat": 4
 },
 "nbformat": 4,
 "nbformat_minor": 2
}
