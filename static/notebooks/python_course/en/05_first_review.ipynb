{
 "cells": [
  {
   "cell_type": "markdown",
   "metadata": {},
   "source": [
    "# 05 - The first test is the best test!\n",
    "\n",
    "Okey, we've successfully gone through the basics of programming in Python. This chapter we will test what we've learned.\n",
    "\n",
    "I'll create a somewhat excercise and we will solve it togheter, trying to review all the concepts we've covered so far."
   ]
  },
  {
   "cell_type": "markdown",
   "metadata": {},
   "source": [
    "# The task\n",
    "\n",
    "Through this last chapters we've learned some basic syntax on the Python language and learned about the basic data types and how to use them: how to assign to and retrieve data from them and how to combine and modify them through operations. \n",
    "\n",
    "We'll use this knowledge to extract different information from this next variable `students`:"
   ]
  },
  {
   "cell_type": "code",
   "execution_count": null,
   "metadata": {},
   "outputs": [],
   "source": [
    "students = {\n",
    "    \"john111\": {\n",
    "        \"name\": \"John\",\n",
    "        \"age\": 18,\n",
    "        \"grades\": {\n",
    "            \"math\": 90,\n",
    "            \"history\": 80,\n",
    "            \"science\": 95,\n",
    "            \"english\": 85\n",
    "        },\n",
    "        \"unnatend\": [\n",
    "            {\n",
    "                \"date\": \"2019-04-01\",\n",
    "                \"justified\": True\n",
    "            },\n",
    "            {\n",
    "                \"date\": \"2019-04-02\",\n",
    "                \"justified\": False\n",
    "            },\n",
    "        ],\n",
    "        \"contact\": {\n",
    "            \"phone\": \"555-555-5555\",\n",
    "            \"email\": \"mynameisjohn@mail.com\"\n",
    "        }\n",
    "    },\n",
    "    \"jane222\": {\n",
    "        \"name\": \"Jane\",\n",
    "        \"age\": 17,\n",
    "        \"grades\": {\n",
    "            \"math\": 70,\n",
    "            \"history\": 80,\n",
    "            \"science\": 75,\n",
    "            \"english\": 85\n",
    "        },\n",
    "        \"unnatend\": [\n",
    "            {\n",
    "                \"date\": \"2019-05-09\",\n",
    "                \"justified\": True\n",
    "            },\n",
    "            {\n",
    "                \"date\": \"2019-07-07\",\n",
    "                \"justified\": False\n",
    "            },\n",
    "            {\n",
    "                \"date\": \"2019-01-04\",\n",
    "                \"justified\": False\n",
    "            }\n",
    "        ],\n",
    "        \"contact\": {\n",
    "            \"phone\": \"123-123-1234\",\n",
    "            \"email\": \"janemls@mail.com\"\n",
    "        }\n",
    "    }   \n",
    "}"
   ]
  },
  {
   "cell_type": "markdown",
   "metadata": {},
   "source": [
    "That's considerably bigger than any other variable we've used so far, but probably also closer to what you would find in a real world scenario.\n",
    "We can run our imagination a little now, and say that this is the list of students in a class (yes, only two), with data pertinent to their studies and their personal information.\n",
    "\n",
    "On a real case this variable could have been even bigger, but the principles we'll use to extract information from it would be the same.\n",
    "\n",
    "So, what will we do?"
   ]
  },
  {
   "cell_type": "markdown",
   "metadata": {},
   "source": [
    "## I NEED YOU... to do this:\n",
    "\n",
    "1. Get as much information about the types of data we have inside the variable `students` as you can.\n",
    "2. Get the name of the first student.\n",
    "3. Get the average grade of both students.\n",
    "4. Save the average grade values inside each student data, under \"avg_grade\".\n",
    "5. When was Jane unattendant? Which absences were justified?"
   ]
  },
  {
   "cell_type": "markdown",
   "metadata": {},
   "source": [
    "# The Resolution\n",
    "\n",
    "We'll go through each of the steps and solve them togheter. Obviously I would encourage you to try to solve them by yourself first, but if you get stuck, you can always check the solution."
   ]
  },
  {
   "cell_type": "markdown",
   "metadata": {},
   "source": [
    "## 1. Get as much information about the types of data we have inside the variable `students` as you can."
   ]
  },
  {
   "cell_type": "markdown",
   "metadata": {},
   "source": [
    "Okay, let's start with the first one. We could be able to asume the type of data by looking at the definition of `students` above. But outside this example, this might not happen in real life, so we will get each type programatically. Why don't you try to deduce which data type we will encounter before we do it? Try it, try it now!!\n",
    "\n",
    "In any case, what we will do is use the `print()` and `type()` functions to get the type of the data. If a piece of data is \"simple\", we'll leave it at that, but if it were \"compound\" we'll try to get which type of data it contains. We will also add some text on the print function to make it more readable."
   ]
  },
  {
   "cell_type": "code",
   "execution_count": null,
   "metadata": {},
   "outputs": [],
   "source": [
    "print(\"The data type for students is: \", type(students))"
   ]
  },
  {
   "cell_type": "code",
   "execution_count": null,
   "metadata": {},
   "outputs": [],
   "source": [
    "# Since it is a dictionary, we will list its keys to go through and also get their types. We do that with the keys() method of the dictionary.\n",
    "print(\"The keys for students are: \", list(students.keys()))\n",
    "# ^ list() is used to convert the keys into a list, this is not necessary here but it is good practice since the keys of a dictionary don't have the same properties as a list."
   ]
  },
  {
   "cell_type": "code",
   "execution_count": null,
   "metadata": {},
   "outputs": [],
   "source": [
    "# since we got two keys, john111 and jane222, we will access the data (values) inside them and print their types.\n",
    "# to keep some reference of where this data type is stored, we will mark each access to a key with an arrow on the print statement, like this!\n",
    "print(\"The data type for students->john111 is: \", type(students[\"john111\"]))\n",
    "print(\"The data type for students->jane222 is: \", type(students[\"jane222\"]))"
   ]
  },
  {
   "cell_type": "code",
   "execution_count": null,
   "metadata": {},
   "outputs": [],
   "source": [
    "# we did not make a mistake, inside stuents both keys contained other dictionaries, this are nested dictionaries.\n",
    "# let's print the keys for each and then access their data types.\n",
    "print(\"The keys for students->john111 are: \", list(students[\"john111\"].keys()))\n",
    "print(\"The keys for students->jane222 are: \", list(students[\"jane222\"].keys()))"
   ]
  },
  {
   "cell_type": "code",
   "execution_count": null,
   "metadata": {},
   "outputs": [],
   "source": [
    "print(\"The data type for students->john111->name is: \", type(students[\"john111\"][\"name\"]))\n",
    "print(\"The data type for students->john111->age is: \", type(students[\"john111\"][\"age\"]))\n",
    "print(\"The data type for students->john111->grades is: \", type(students[\"john111\"][\"grades\"]))\n",
    "print(\"The data type for students->john111->unnatend is: \", type(students[\"john111\"][\"unnatend\"]))\n",
    "print(\"The data type for students->john111->contact is: \", type(students[\"john111\"][\"contact\"]))\n",
    "print(\"------------------------------------\")\n",
    "print(\"The data type for students->jane222->name is: \", type(students[\"jane222\"][\"name\"]))\n",
    "print(\"The data type for students->jane222->age is: \", type(students[\"jane222\"][\"age\"]))\n",
    "print(\"The data type for students->jane222->grades is: \", type(students[\"jane222\"][\"grades\"]))\n",
    "print(\"The data type for students->jane222->unnatend is: \", type(students[\"jane222\"][\"unnatend\"]))\n",
    "print(\"The data type for students->jane222->contact is: \", type(students[\"jane222\"][\"contact\"]))"
   ]
  },
  {
   "cell_type": "code",
   "execution_count": null,
   "metadata": {},
   "outputs": [],
   "source": [
    "# okey, we are closer to finishing, i added a dotted line to separate john111 and jane222\n",
    "# still their data types seem to match which is something desirable in this case, because\n",
    "# we would want consistency throughout our students data.\n",
    "# This is something we would add on the report too, specially if it were NOT consistent like it is.\n",
    " \n",
    "# Most data types we found so far are simple, we just need to review grades, unnatend and contact.\n",
    "# For simplicity we will conly continue with john111 data, but you can do the same for jane222.\n",
    "\n",
    "# grades and contact are dictionaries, so we need their keys to access their data types.\n",
    "print(\"The keys for students->john111->grades are: \", list(students[\"john111\"][\"grades\"].keys()))\n",
    "print(\"The keys for students->john111->contact are: \", list(students[\"john111\"][\"contact\"].keys()))\n",
    "\n",
    "# unnatend, on the other hand, is a list of dictionaries. We will get better ways to read a list data later,\n",
    "# for now we will get the list length and access each element by indexing.\n",
    "print(\"The length of students->john111->unnatend is: \", len(students[\"john111\"][\"unnatend\"]))"
   ]
  },
  {
   "cell_type": "code",
   "execution_count": null,
   "metadata": {},
   "outputs": [],
   "source": [
    "print(\"The data type for students->john111->grades->math is: \", type(students[\"john111\"][\"grades\"][\"math\"]))\n",
    "print(\"The data type for students->john111->grades->history is: \", type(students[\"john111\"][\"grades\"][\"history\"]))\n",
    "print(\"The data type for students->john111->grades->science is: \", type(students[\"john111\"][\"grades\"][\"science\"]))\n",
    "print(\"The data type for students->john111->grades->english is: \", type(students[\"john111\"][\"grades\"][\"english\"]))\n",
    "print(\"------------------------------------\")\n",
    "print(\"The data type for students->john111->contact->phone is: \", type(students[\"john111\"][\"contact\"][\"phone\"]))\n",
    "print(\"The data type for students->john111->contact->email is: \", type(students[\"john111\"][\"contact\"][\"email\"]))"
   ]
  },
  {
   "cell_type": "code",
   "execution_count": null,
   "metadata": {},
   "outputs": [],
   "source": [
    "print(\"The data type for students->john111->unnatend[0] is: \", type(students[\"john111\"][\"unnatend\"][0]))\n",
    "print(\"The data type for students->john111->unnatend[1] is: \", type(students[\"john111\"][\"unnatend\"][1]))"
   ]
  },
  {
   "cell_type": "markdown",
   "metadata": {},
   "source": [
    "And that is as far as I would go, mainly because I got bored, this is a pretty repetitive process. probably if this were a real case we would not need to get ALL the data types, and if we did we would know better techniques by then. But repeating it for each case is a good way to learn it."
   ]
  },
  {
   "cell_type": "markdown",
   "metadata": {},
   "source": [
    "There IS something I want you to start paying close attention to: look at how we accessed nested data (dicts nested in dicts and list nested in list). For example, inside the `students` dictionary there was a key `john111` which was a nested dictionary, and inside it there was another key `unnatend` which was a list. To access the first element for that list we used `students[\"john111\"][\"unnatend\"][0]`. Why don't we quickly dissasemble that command. (This next part is beyond the excercise 1.)"
   ]
  },
  {
   "cell_type": "code",
   "execution_count": null,
   "metadata": {},
   "outputs": [],
   "source": [
    "# Let's first just access the students->john111 data\n",
    "print(\"students->john111:\")\n",
    "print(students[\"john111\"])"
   ]
  },
  {
   "cell_type": "code",
   "execution_count": null,
   "metadata": {},
   "outputs": [],
   "source": [
    "# As you can see that extracted the dictionary that is inside the key john111.\n",
    "# then students[\"john111\"] now represents that new dictionary,\n",
    "# imagine we would replace that with the name of a variable\n",
    "# and access to the value inside unattend: students[\"john111\"][\"unnatend\"] => new_variable[\"unnatend\"]\n",
    "print(\"students->john111->unnatend:\")\n",
    "print(students[\"john111\"][\"unnatend\"])"
   ]
  },
  {
   "cell_type": "code",
   "execution_count": null,
   "metadata": {},
   "outputs": [],
   "source": [
    "# The same happened here, we extracted the list so it is as if\n",
    "# students[\"john111\"][\"unnatend\"] contains that list, and if we think of it as a new variable\n",
    "# and want to extract the first element of the list: students[\"john111\"][\"unnatend\"][0] => new_variable[0]\n",
    "print(\"students->john111->unnatend[0]:\")\n",
    "print(students[\"john111\"][\"unnatend\"][0])"
   ]
  },
  {
   "cell_type": "markdown",
   "metadata": {},
   "source": [
    "This concept of nesting is not always easy to get at first, so take as long as you need to get a good grasp of it. It's a very important concept in programming too!"
   ]
  },
  {
   "cell_type": "markdown",
   "metadata": {},
   "source": [
    "## 2. Get the name of the first student."
   ]
  },
  {
   "cell_type": "markdown",
   "metadata": {},
   "source": [
    "After all the data accessing we did on the first excercise, this should be pretty easy. Imagining we couldn't see where `students` was defined above, we don't actually know that `john111` is the first student, we would have to first list the keys and deduce it. After that we would just access the key `name` inside `john111` dictionary."
   ]
  },
  {
   "cell_type": "code",
   "execution_count": null,
   "metadata": {},
   "outputs": [],
   "source": [
    "print(\"the keys for students are: \", list(students.keys()))"
   ]
  },
  {
   "cell_type": "code",
   "execution_count": null,
   "metadata": {},
   "outputs": [],
   "source": [
    "print(\"the name of the first student is: \", students[\"john111\"][\"name\"])"
   ]
  },
  {
   "cell_type": "markdown",
   "metadata": {},
   "source": [
    "## 3. Get the average grade of both students."
   ]
  },
  {
   "cell_type": "markdown",
   "metadata": {},
   "source": [
    "Okey, we now have to not only access the data, but also modify it. Considering we printed the keys of `students` twice now, we will skip that part, but remember this could be necessary if this was an isolated task. What we do need to do is read the keys for each of the subjects under `grades` to then access each one under each student and average them."
   ]
  },
  {
   "cell_type": "code",
   "execution_count": null,
   "metadata": {},
   "outputs": [],
   "source": [
    "print(\"the grades keys for the first student are: \", list(students[\"john111\"][\"grades\"].keys()))"
   ]
  },
  {
   "cell_type": "code",
   "execution_count": null,
   "metadata": {},
   "outputs": [],
   "source": [
    "# To do the average, we will create a grades sum variable and add each grade to it.\n",
    "# then we will divide it by the number of grades, which we can get from the length of the grades dictionary.\n",
    "grades_sum = 0\n",
    "grades_sum += students[\"john111\"][\"grades\"][\"math\"]\n",
    "grades_sum += students[\"john111\"][\"grades\"][\"history\"]\n",
    "grades_sum += students[\"john111\"][\"grades\"][\"science\"]\n",
    "grades_sum += students[\"john111\"][\"grades\"][\"english\"]\n",
    "\n",
    "# we will save the average on a specific variable for the next excercise\n",
    "john_grade_average = grades_sum / len(students[\"john111\"][\"grades\"])\n",
    "print(\"the average grade for john is: \", john_grade_average)"
   ]
  },
  {
   "cell_type": "code",
   "execution_count": null,
   "metadata": {},
   "outputs": [],
   "source": [
    "# a quicker way to do this would be to do the sum and the average directly on the average variable, take a look at this:\n",
    "jane_grade_average = 0\n",
    "jane_grade_average += students[\"jane222\"][\"grades\"][\"math\"]\n",
    "jane_grade_average += students[\"jane222\"][\"grades\"][\"history\"]\n",
    "jane_grade_average += students[\"jane222\"][\"grades\"][\"science\"]\n",
    "jane_grade_average += students[\"jane222\"][\"grades\"][\"english\"]\n",
    "\n",
    "jane_grade_average /= len(students[\"jane222\"][\"grades\"])\n",
    "print(\"the average grade for jane is: \", jane_grade_average)\n",
    "# did you get the difference, could you understand both methods?"
   ]
  },
  {
   "cell_type": "markdown",
   "metadata": {},
   "source": [
    "## 4. Save the average grade values inside each student data, under \"avg_grade\"."
   ]
  },
  {
   "cell_type": "markdown",
   "metadata": {},
   "source": [
    "This is a pretty simple task, we already have the average grades, we just need to save them under the key `avg_grade` for each student. Remember to save data on a dictionary we need to do as if we were retrieving that data but instead putting it on the left side of the assignment operator `=` (yes the equal sign, but assignment operator sounds cooler, try it out with your friends)."
   ]
  },
  {
   "cell_type": "code",
   "execution_count": null,
   "metadata": {},
   "outputs": [],
   "source": [
    "# lets assign the value on john_grade_average to students->john111->avg_grade\n",
    "students[\"john111\"][\"avg_grade\"] = john_grade_average\n",
    "\n",
    "# and similarly for jane\n",
    "students[\"jane222\"][\"avg_grade\"] = jane_grade_average"
   ]
  },
  {
   "cell_type": "markdown",
   "metadata": {},
   "source": [
    "## 5. When was Jane unattendant? Which absences were justified?"
   ]
  },
  {
   "cell_type": "markdown",
   "metadata": {},
   "source": [
    "This is also a task for accessing data, similar to what we did with grades, but now `unnatend`, the key unde which the unnnatended days are stored, is a list. So, as we did on excercise 1. we will get the length of the list and access each element by index."
   ]
  },
  {
   "cell_type": "code",
   "execution_count": null,
   "metadata": {},
   "outputs": [],
   "source": [
    "print(\"the length of students->jane222->unnatend is: \", len(students[\"jane222\"][\"unnatend\"]))"
   ]
  },
  {
   "cell_type": "code",
   "execution_count": null,
   "metadata": {},
   "outputs": [],
   "source": [
    "# since the length of unnatend is 3, we will access the indexes 0, 1 and 2\n",
    "# REMEMBER TO ALWAYS START AT 0, OR WHAT IS THE SAME, SUBSTRACT 1 FROM HOW YOU WOULD NORMALY COUNT\n",
    "\n",
    "print(\"Jane was unnattendant on:\", students[\"jane222\"][\"unnatend\"][0][\"date\"], \"and the justification was:\", students[\"jane222\"][\"unnatend\"][0][\"justified\"])\n",
    "print(\"Jane was unnattendant on:\", students[\"jane222\"][\"unnatend\"][1][\"date\"], \"and the justification was:\", students[\"jane222\"][\"unnatend\"][1][\"justified\"])\n",
    "print(\"Jane was unnattendant on:\", students[\"jane222\"][\"unnatend\"][2][\"date\"], \"and the justification was:\", students[\"jane222\"][\"unnatend\"][2][\"justified\"])"
   ]
  },
  {
   "cell_type": "markdown",
   "metadata": {},
   "source": [
    "# Finished!"
   ]
  },
  {
   "cell_type": "markdown",
   "metadata": {},
   "source": [
    "Alright! That was our first challenge done! Feel free to try it again by yourself, or even better, create new excercises and try to solve them yourself. We still lack a lot of essential tools of the Python language - yes, we just finished the basics but we still lack a lot of basics -, but there are a lot of things we can do with what we've learned so far.\n",
    "\n",
    "After you finished, I will be waiting you on the next chapter, like the boss of a videogame, longing for your pain and suffering.. See you there :) !!"
   ]
  }
 ],
 "metadata": {
  "language_info": {
   "name": "python"
  },
  "orig_nbformat": 4
 },
 "nbformat": 4,
 "nbformat_minor": 2
}
