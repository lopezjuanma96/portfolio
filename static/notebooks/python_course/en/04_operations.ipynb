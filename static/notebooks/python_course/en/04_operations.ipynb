{
 "cells": [
  {
   "cell_type": "markdown",
   "metadata": {},
   "source": [
    "# 04 - This code has some variables on the loose, we need to operate.\n",
    "\n",
    "Okey, admittedly that was the worst title this course will ever have. We can quickly then leave that behind and start talking about operations.\n",
    "\n",
    "Operations are the way we can manipulate data in Python. Depending on the data type of the variables we are using, we'll have a different set of operations available. We will only talk about operations were all variables have the same data type, with the exception of integers and floats, which can be operated together as `numbers`. Is not that it is impossible for operations with different data types to be performed, but it is not that common.\n",
    "\n",
    "Let's get to it. We'll list operations by data type they are performed on."
   ]
  },
  {
   "cell_type": "markdown",
   "metadata": {},
   "source": [
    "## Operations on numbers"
   ]
  },
  {
   "cell_type": "markdown",
   "metadata": {},
   "source": [
    "In case you did not read the introduction on this chapter (which you should), when I say operations that are performed on integers and float values, since they are both a numeric type, and this is the only case we will see of operations between different data types.\n",
    "\n",
    "**Basic Arithmetic Operations**\n",
    "\n",
    "The basic arithmetic operations are the ones you already know from school. Addition, substraction, multiplication, division and exponentiation. These are performed with the symbols `+`, `-`, `*`, `/` and `**` respectively (we had already seen all of them except for the last one). The root has no symbol, but we can use inverse property to apply it through the exponentiation operation. If you don't rememeber it, we can calculate a root by moving its index to the denominator of the exponent - if there is no exponent, it is assumed to be 1. Then the square (2) root of `n` can be calculated as `n**(1/2)`. And there is not that much more to say about these, it is plain old math.\n",
    "\n",
    "**Integer division**\n",
    "\n",
    "This is a variant of the division operation, which returns the result as an integer. This means the decimal part of the result is discarded, and its data type is set to `int`. Remember the normal division **ALWAYS** returned a float even when the result was whole. The integer division is performed with the symbol `//`. Another name for this operation is **floor division**.\n",
    "\n",
    "**Modulus**\n",
    "\n",
    "The modulus operation returns the remainder of the division of two numbers. The modulus operation is performed with the symbol `%`. Oh.. You don't remember what the reminder is? Well consider the Integer division we talked about before. The reminder is the number that is left after this type of division is performed. For example:\n",
    "- The common division (`/`) of 5 by 2 is 2.5.\n",
    "- The integer division (`//`) of 5 by 2 is 2.\n",
    "- The modulus (`%`) of 5 by 2 is 1.\n",
    "One important thing to mention is that if the modulus of two numbers is 0, then the first number is a multiple of the second one. This is useful, for example, to check if a number is even or odd. If the modulus of a number by 2 is 0, then the number is even, otherwise it is odd."
   ]
  },
  {
   "cell_type": "code",
   "execution_count": 4,
   "metadata": {},
   "outputs": [
    {
     "name": "stdout",
     "output_type": "stream",
     "text": [
      "a = 7 \t b = 4\n",
      "------------------\n",
      "Addition (a + b): 11\n",
      "Subtraction (a - b): 3\n",
      "Multiplication (a * b): 28\n",
      "Division (a / b): 1.75\n",
      "Floor Division (a // b): 1\n",
      "Modulus (a % b): 3\n"
     ]
    }
   ],
   "source": [
    "a = 7\n",
    "b = 4\n",
    "\n",
    "print(\"a =\", a, \"\\t\", \"b =\", b) # can you find out what \\t does?\n",
    "print(\"------------------\")\n",
    "print(\"Addition (a + b):\", a + b)\n",
    "print(\"Subtraction (a - b):\", a - b)\n",
    "print(\"Multiplication (a * b):\", a * b)\n",
    "print(\"Division (a / b):\", a / b)\n",
    "print(\"Floor Division (a // b):\", a // b)\n",
    "print(\"Modulus (a % b):\", a % b)"
   ]
  },
  {
   "cell_type": "markdown",
   "metadata": {},
   "source": [
    "## Operations on strings"
   ]
  },
  {
   "cell_type": "markdown",
   "metadata": {},
   "source": [
    "Operations on numbers were pretty intuitive, at least if you have some interest in math. Operations on strings might not be so straightforward, but they are still pretty simple.\n",
    "\n",
    "**Concatenation**\n",
    "\n",
    "Concatenation is the operation of joining two strings together. This is performed with the `+` symbol. For example, `\"Hello\" + \"World\"` will return `\"HelloWorld\"`. We already saw this operation too in the previous chapter.\n",
    "\n",
    "**Repetition**\n",
    "\n",
    "I have to admit a mistake. I said we were not covering operations with different data types. I forgot about this one. In the same way, you can forget about my mistake and keep reading. The repetition operation consists of repeating a string a number of times. This is performed with the `*` symbol. For example, `\"Hello\" * 3` will return `\"HelloHelloHello\"`.\n",
    "\n",
    "**Formatting**\n",
    "\n",
    "We will see formatting in a later chapter, because it provides us with a lot of concepts to talk about. But since one of the methods of formatting has a structure close to an operation, we'll cover it briefly. Using the `%` symbol, we can replace a placeholder in a string with a value. For example, `\"I did it %s times\" % 3` will return `\"I did it 3 times\"`. Why would this be any different from `\"I did it \" + 3 + \" times\"`? Well it gives us all the power of formatting, which as I said we will see later."
   ]
  },
  {
   "cell_type": "code",
   "execution_count": 7,
   "metadata": {},
   "outputs": [
    {
     "name": "stdout",
     "output_type": "stream",
     "text": [
      "a =  Hello \t b =  World \t c =  , my name is %s\n",
      "------------------\n",
      "Concatenation (a + b): HelloWorld\n",
      "Concatenation and formatting (a + c % b): Hello, my name is World\n",
      "Repetition (a * 3): HelloHelloHello\n",
      "All of those (a * 3 + b + c % b): HelloHelloHelloWorld, my name is World\n"
     ]
    }
   ],
   "source": [
    "a = \"Hello\"\n",
    "b = \"World\"\n",
    "c = \", my name is %s\"\n",
    "\n",
    "print(\"a = \", a, \"\\t\", \"b = \", b, \"\\t\", \"c = \", c)\n",
    "print(\"------------------\")\n",
    "print(\"Concatenation (a + b):\", a + b)\n",
    "print(\"Concatenation and formatting (a + c % b):\", a + c % b)\n",
    "print(\"Repetition (a * 3):\", a * 3)\n",
    "print(\"All of those (a * 3 + b + c % b):\", a * 3 + b + c % b)\n"
   ]
  },
  {
   "cell_type": "markdown",
   "metadata": {},
   "source": [
    "## Operations on booleans"
   ]
  },
  {
   "cell_type": "markdown",
   "metadata": {},
   "source": [
    "On the previous chapter, when dealing with the boolean data type, we saw that the numeric operations can be applied to booleans because Python considers `True` as 1 and `False` as 0. Those are not the operations we want to talk about. We want to talk about logical operations. At some point in your life you might have been taught about `logic`, in some math course or something. I didn't, I learned about logic when learning programming, and I ended up fine, right? But if you did, this are the operations you might have seen there.\n",
    "\n",
    "**Logical AND**\n",
    "The logical AND operation is performed with the `and` keyword. It returns `True` if both operands are `True`, and `False` otherwise. Think of the AND operation as asking all the operands to be True to consider its result to be True. If you said `I will go to the club (this is the result) if I have money AND I'm not having fun on the course`.\n",
    "\n",
    "**Logical OR**\n",
    "The logical OR operation is performed with the `or` keyword. It returns `True` if at least one of the operands is `True`, and `False` otherwise. Think of the OR operation as asking at least one of the operands to be True to consider its result to be True. Here you could say `I eat pizza (this is the result) when I'm hungry OR I'm given free pizza`.\n",
    "\n",
    "**Logical NOT**\n",
    "The logical NOT operation is performed with the `not` keyword. Unlike previous operations, it is applied to only one operand, flipping its value. So it returns `True` if the operand is `False`, and `False` if the operand is `True`. Think of the NOT operation as asking the operand to be False to consider its result to be True. The example here is `I have to do the dishes (this is the result) if I have NO clean dishes left` (yes I know, I used NO instead of NOT, but you get the point).\n",
    "\n",
    "A better way to understand these operations is with a truth table. A truth table shows us the result of each operation for every possible combination of operands:\n",
    "\n",
    "| A | B | A and B | A or B | not A | not B |\n",
    "|---|---|---------|--------|-------|-------|\n",
    "| T | T |    T    |    T   |   F   |   F   |\n",
    "| T | F |    F    |    T   |   F   |   T   |\n",
    "| F | T |    F    |    T   |   T   |   F   |\n",
    "| F | F |    F    |    F   |   T   |   T   |\n"
   ]
  },
  {
   "cell_type": "code",
   "execution_count": 17,
   "metadata": {},
   "outputs": [
    {
     "name": "stdout",
     "output_type": "stream",
     "text": [
      "Let's repeat the truth table in code!\n",
      "I won't promise the columns to be perfectly aligned, though.\n",
      "But you can try aligning them using \\t, which you obviously researched, right?\n",
      "\n",
      "|\t a \t|\t b \t|\t a and b \t|\t a or b \t|\t not a \t|\t not b \t|\n",
      "|\t True \t|\t True \t|\t True \t\t|\t True \t\t|\t False \t|\t False \t|\n",
      "|\t True \t|\t False \t|\t False \t\t|\t True \t\t|\t False \t|\t True \t|\n",
      "|\t False \t|\t True \t|\t False \t\t|\t True \t\t|\t True \t|\t False \t|\n",
      "|\t False \t|\t False \t|\t False \t\t|\t False \t\t|\t True \t|\t True \t|\n"
     ]
    }
   ],
   "source": [
    "print(\"Let's repeat the truth table in code!\")\n",
    "print(\"I won't promise the columns to be perfectly aligned, though.\")\n",
    "print(\"But you can try aligning them using \\\\t, which you obviously researched, right?\")\n",
    "print()\n",
    "a = True\n",
    "b = True\n",
    "print(\"|\\t a\", \"\\t|\\t\", \"b\", \"\\t|\\t\", \"a and b\", \"\\t|\\t\", \"a or b\", \"\\t|\\t\", \"not a\", \"\\t|\\t\", \"not b \\t|\")\n",
    "print(\"|\\t\", a, \"\\t|\\t\", b, \"\\t|\\t\", a and b, \"\\t\\t|\\t\", a or b, \"\\t\\t|\\t\", not a, \"\\t|\\t\", not b, \"\\t|\")\n",
    "b = False\n",
    "print(\"|\\t\", a, \"\\t|\\t\", b, \"\\t|\\t\", a and b, \"\\t\\t|\\t\", a or b, \"\\t\\t|\\t\", not a, \"\\t|\\t\", not b, \"\\t|\")\n",
    "a = False\n",
    "b = True\n",
    "print(\"|\\t\", a, \"\\t|\\t\", b, \"\\t|\\t\", a and b, \"\\t\\t|\\t\", a or b, \"\\t\\t|\\t\", not a, \"\\t|\\t\", not b, \"\\t|\")\n",
    "b = False\n",
    "print(\"|\\t\", a, \"\\t|\\t\", b, \"\\t|\\t\", a and b, \"\\t\\t|\\t\", a or b, \"\\t\\t|\\t\", not a, \"\\t|\\t\", not b, \"\\t|\")"
   ]
  },
  {
   "cell_type": "markdown",
   "metadata": {},
   "source": [
    "## Operations on lists"
   ]
  },
  {
   "cell_type": "markdown",
   "metadata": {},
   "source": [
    "Finally, let's talk about operations on lists.\n",
    "\n",
    "**Concatenation**\n",
    "\n",
    "Concatenation is the operation of joining two lists together. This is performed with the `+` symbol. For example, `[1, 2, 3] + [4, 5, 6]` will return `[1, 2, 3, 4, 5, 6]`. We already saw this operation too in the previous chapter, when comparing it to the `append` method.\n",
    "\n",
    "**Repetition**\n",
    "\n",
    "As with strings, we can repeat a list a number of times. This is performed with the `*` symbol. For example, `[1, 2, 3] * 3` will return `[1, 2, 3, 1, 2, 3, 1, 2, 3]`. (and yes this is also an operation with two different data types, but shh ;D )\n",
    "\n",
    "**Indexing and Slicing, could also be considered operations on lists, but since we already saw them in detail on data types, and we will encounter them A LOT in the future, we will not talk about them here.**"
   ]
  },
  {
   "cell_type": "code",
   "execution_count": 18,
   "metadata": {},
   "outputs": [
    {
     "name": "stdout",
     "output_type": "stream",
     "text": [
      "a = [1, 2, 3] \t b = [4, 5, 6]\n",
      "------------------\n",
      "Concatenation (a + b): [1, 2, 3, 4, 5, 6]\n",
      "Repetition (a * 3): [1, 2, 3, 1, 2, 3, 1, 2, 3]\n",
      "Concatenation and repetition (a * 3 + b): [1, 2, 3, 1, 2, 3, 1, 2, 3, 4, 5, 6]\n"
     ]
    }
   ],
   "source": [
    "a = [1, 2, 3]\n",
    "b = [4, 5, 6]\n",
    "print(\"a =\", a, \"\\t\", \"b =\", b)\n",
    "print(\"------------------\")\n",
    "print(\"Concatenation (a + b):\", a + b)\n",
    "print(\"Repetition (a * 3):\", a * 3)\n",
    "print(\"Concatenation and repetition (a * 3 + b):\", a * 3 + b)"
   ]
  },
  {
   "cell_type": "markdown",
   "metadata": {},
   "source": [
    "## That's it!\n",
    "\n",
    "That's it for this chapter. This wasn't that long right? I hope that means you were able to pay really close attention because we are putting everything to practice in the next one!\n",
    "\n",
    "### We learned:\n",
    "\n",
    "- Operations are the way we can manipulate data in Python.\n",
    "\n",
    "### Next chapter we will:\n",
    "\n",
    "- The next chapter is recopilatory, like an album. We will put everything we learned so far together and do some exercises to practice."
   ]
  }
 ],
 "metadata": {
  "kernelspec": {
   "display_name": "base",
   "language": "python",
   "name": "python3"
  },
  "language_info": {
   "codemirror_mode": {
    "name": "ipython",
    "version": 3
   },
   "file_extension": ".py",
   "mimetype": "text/x-python",
   "name": "python",
   "nbconvert_exporter": "python",
   "pygments_lexer": "ipython3",
   "version": "3.10.9"
  },
  "orig_nbformat": 4
 },
 "nbformat": 4,
 "nbformat_minor": 2
}
