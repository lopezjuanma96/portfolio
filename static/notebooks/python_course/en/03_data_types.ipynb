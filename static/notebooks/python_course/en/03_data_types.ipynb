{
 "cells": [
  {
   "cell_type": "markdown",
   "metadata": {},
   "source": [
    "# 03 - What's my data type?\n",
    "\n",
    "Last chapter we saw what were variables in Python and how to handle them. As a brief reminder, remember we assign values to a variable using the `=` sign, like `variable_name = variable_value`. Then we can access that value by calling the variable by its name, for example showing the value with a `print(variable_name)` function.\n",
    "\n",
    "Now the values we can assign to a variable are basically infinite, but we can group them in a few categories. These categories are called **data types**. Each programming language will have different data types. We will focus on the most common ones used in Python. We will also divide them into *simple* and *compound* data types. This is not necessarily an official classification, but I feel it will help us understand them better.\n",
    "\n",
    "***\n",
    "**Note:** Some programming language require defining which type of value a variable will get before even assigning any value to it. This is not the case with Python. Python will assign a data type to a variable depending on the value that it is given at the moment of being assigned. Even more, if we assign a different data type to the same variable later, Python will change the data type of the variable automatically. We call this a **loosely & dinamically typed** language."
   ]
  },
  {
   "cell_type": "markdown",
   "metadata": {},
   "source": [
    "## First of all, how do we check the data type of a variable?"
   ]
  },
  {
   "cell_type": "markdown",
   "metadata": {},
   "source": [
    "Let's be honest here, you don't know me. You can not trust me to be telling you what the data type of a variable is or isn't. The good thing with programming is that you can *almost* check everything you are told to believe by yourself. All of this to say: let's check the data type of a variable!\n",
    "\n",
    "To do this, Python also provides us a function called `type()`. This function will return the data type of the variable we pass as an argument (inside the parenthesis). Although we haven't covered any of the data type available yet, let's check out how it works:"
   ]
  },
  {
   "cell_type": "code",
   "execution_count": 39,
   "metadata": {},
   "outputs": [
    {
     "data": {
      "text/plain": [
       "int"
      ]
     },
     "execution_count": 39,
     "metadata": {},
     "output_type": "execute_result"
    }
   ],
   "source": [
    "a = 3\n",
    "\n",
    "type(a)"
   ]
  },
  {
   "cell_type": "markdown",
   "metadata": {},
   "source": [
    "As we will see soon, this is correct because `3` is an integer value (okay, you *will* have o trust me for now, but shortly you will be able to check it yourself).\n",
    "\n",
    "As we saw before, we can see this result using the `print()` function instead of the output. To do that we insert the whole `type()` with its argument inside the parenthesis of the `print()`. This is called **nesting** functions, and we will see it a lot in the future."
   ]
  },
  {
   "cell_type": "code",
   "execution_count": 40,
   "metadata": {},
   "outputs": [
    {
     "name": "stdout",
     "output_type": "stream",
     "text": [
      "<class 'int'>\n",
      "<class 'float'>\n"
     ]
    }
   ],
   "source": [
    "a = 3\n",
    "b = 3.0\n",
    "\n",
    "print(type(a))\n",
    "print(type(b))"
   ]
  },
  {
   "cell_type": "markdown",
   "metadata": {},
   "source": [
    "Again this is correct, because `3.0` is a float value. You can also notice how the output and print results are similar but not the same (we talked about this briefly on the last chapter).\n",
    "\n",
    "**We are now ready to move on to the data types!**"
   ]
  },
  {
   "cell_type": "markdown",
   "metadata": {},
   "source": [
    "## Simple Data Types"
   ]
  },
  {
   "cell_type": "markdown",
   "metadata": {},
   "source": [
    "I called this group of data types *simple* because they consist only of the value itself. This might seem confusing at first, but as with most things in life, it is difficult defining something if we don't know its counterpart or what that thing isn't. When we see the *compound* data types, you will understand what I mean."
   ]
  },
  {
   "cell_type": "markdown",
   "metadata": {},
   "source": [
    "### int: The Integer Data Type \n",
    "\n",
    "Integers are numbers that can be defined without using the decimal point or fractions. They consist of zero, the whole numbers (the *counting* numbers: 1, 2, 3, and so) and their negative counterparts. \n",
    "\n",
    "**Usecase for integers:** the most common and clear one is for counting whole things. For example, if you want to count the number of apples you have in your fridge, you will use an integer. You can't have 2.5 apples, right? (I mean, you can, but that's not the point here, maybe I should have used an example of counting humans and I could have judge you heavily on wanting to cut a human in half)."
   ]
  },
  {
   "cell_type": "code",
   "execution_count": 41,
   "metadata": {},
   "outputs": [
    {
     "name": "stdout",
     "output_type": "stream",
     "text": [
      "<class 'int'>\n",
      "<class 'int'>\n",
      "<class 'int'>\n",
      "<class 'int'>\n",
      "<class 'int'>\n",
      "<class 'float'>\n"
     ]
    }
   ],
   "source": [
    "a = 3\n",
    "b = 5\n",
    "c = a + b\n",
    "d = a - b\n",
    "e = a * b\n",
    "f = a / b\n",
    "\n",
    "print(type(a))\n",
    "print(type(b))\n",
    "print(type(c))\n",
    "print(type(d))\n",
    "print(type(e))\n",
    "print(type(f))"
   ]
  },
  {
   "cell_type": "markdown",
   "metadata": {},
   "source": [
    "As we can see, for every case above, when we defined a variable as an integer, Python assigned it the `int` data type. On most operations of integers, Python will return an integer as a result, so assigning that result to a new variable also gives it an `int` data type. This is not the case for division, where the return value has a decimal point, which will force the data type not to be an `int`, but rather a `float`, which we will see now."
   ]
  },
  {
   "cell_type": "markdown",
   "metadata": {},
   "source": [
    "### float: The Floating Point Data Type"
   ]
  },
  {
   "cell_type": "markdown",
   "metadata": {},
   "source": [
    "This is the broader numeric data type. This is not to say `float` is more common than `int`, but rather that we can represent almost all the numbers we will need using the `float` data type.\n",
    "\n",
    "If the name `float` doesn't sound familiar to you, it comes from the way this decimal point is represented on the computer. And that is as deep as I will go on that topic. That is as far as I know and as far as you will need to know for this course. Do not keep asking. You won't like what you find. You've been warned :).\n",
    "\n",
    "**Usecase for floats:** basically everything that is not a whole number. For example, calculating the average grade of a student on a course. The result of the averaging process won't likely be a whole value. Also, if you want to calculate the area of a circle, you will need to use the value of pi, which is a decimal number (this last sentence was written by GPT, if you think it does not make sense, ask it not me)."
   ]
  },
  {
   "cell_type": "code",
   "execution_count": 42,
   "metadata": {},
   "outputs": [
    {
     "name": "stdout",
     "output_type": "stream",
     "text": [
      "<class 'float'>\n",
      "<class 'float'>\n",
      "<class 'float'>\n",
      "<class 'float'>\n",
      "<class 'float'>\n",
      "<class 'float'>\n"
     ]
    }
   ],
   "source": [
    "a = 2.0\n",
    "b = 4.5\n",
    "c = a + b\n",
    "d = a - b\n",
    "e = a * b\n",
    "f = a / b\n",
    "\n",
    "print(type(a))\n",
    "print(type(b))\n",
    "print(type(c))\n",
    "print(type(d))\n",
    "print(type(e))\n",
    "print(type(f))"
   ]
  },
  {
   "cell_type": "markdown",
   "metadata": {},
   "source": [
    "Now we got all floats! Even when the first value we assigned was theorically whole, since we added the decimal point Python assigned it the `float` data type. This also happend for the product: the result of the multiplication should have given us a whole number 9, but since it is the product of two floats, Python expressed it as 9.0 and assigned it the `float` data type. We will see later how to change those floats into integers and back.\n",
    "\n",
    "***\n",
    "**Note:** If you have some math intuition, you know integers are a subset of the real numbers and can be expressed as decimal or fractions, so: why telling them apart? One of the main reason is that if we tell Python we won't use the decimal point, it will store that value more efficiently, saving memory and processing time. A clear effect of this is that Integer type variables can store numbers up to a much larger limit. Also, you can design your code to only *accept* integer type values preventing the user from inputting a decimal number. It all depends on the use of your code!\n",
    "\n",
    "![intvsfloat](https://raw.githubusercontent.com/lopezjuanma96/portfolio/main/img/python_course/intvsfloat.gif)\n",
    "***\n",
    "\n",
    "\n",
    "But if programming was all numbers things like ChatGPT would not exist, and being honest programming would also be much less popular and fun. So let's move on to the next data type."
   ]
  },
  {
   "cell_type": "markdown",
   "metadata": {},
   "source": [
    "### str: The Text Data Type"
   ]
  },
  {
   "cell_type": "markdown",
   "metadata": {},
   "source": [
    "Strings (str) are the data type used to represent text (we are not covering *char* for now, you nerds!) in Python. They are called strings because they are a string of characters (okey.. but this is as far as we will talk about *char*). A character, the *char* data type, is a single letter, number, symbol, or space (i can assure this is the last time). So a string is a string or chain of characters (**i give up**).\n",
    "\n",
    "To define strings we can use simple and/or double quotes. Then the string for the already excesively use starting phrase on any programming course could be defined like \"Hello World\" or 'Hello World'. We can also use triple quotes to define a string that will span multiple lines, but we won't use that regularly. \n",
    "\n",
    "**Usecase for strings:** although we will find cases where the strings have meanings, on this course we will mostly focus on using strings to improve the way we ask for inputs and show the outputs of our code. Instead of `3.0` we can print `The result of the operation is: 3.0`"
   ]
  },
  {
   "cell_type": "code",
   "execution_count": 43,
   "metadata": {},
   "outputs": [
    {
     "name": "stdout",
     "output_type": "stream",
     "text": [
      "<class 'str'>\n",
      "<class 'str'>\n",
      "<class 'str'>\n",
      "The value of d is: My name is John\n",
      "and it's type is:\n",
      "<class 'str'>\n"
     ]
    }
   ],
   "source": [
    "a = 'My name is'\n",
    "b = ' '\n",
    "c = 'John'\n",
    "d = a + b + c\n",
    "\n",
    "print(type(a))\n",
    "print(type(b))\n",
    "print(type(c))\n",
    "print(\"The value of d is: \" + d)\n",
    "print(\"and it's type is:\")\n",
    "print(type(d))"
   ]
  },
  {
   "cell_type": "markdown",
   "metadata": {},
   "source": [
    "As you can see, everything we defined with quotes was assigned the `str` data type, even the variable `b` which could be interpreted as a char type.\n",
    "\n",
    "Another important thing to notice is that we **CAN** add strings. A sum of text might not be intuitive, this is because the operation that the symbol represents on two strings is *concatenation*. This means that the result of adding two strings is a new string that contains the first string followed by the second string. You can also see the use of *concatenation* when printing the results.\n",
    "\n",
    "**IMPORTANT**\n",
    "\n",
    "Now that we know how concatenation works, I will tell you something REALLY important, and one of the main reasons why we use data types. Wait! Instead of telling you, watch this:"
   ]
  },
  {
   "cell_type": "code",
   "execution_count": 44,
   "metadata": {},
   "outputs": [
    {
     "name": "stdout",
     "output_type": "stream",
     "text": [
      "c made of integers is:\n",
      "8\n",
      "and it's type is:\n",
      "<class 'int'>\n",
      "--------------------\n",
      "c made of strings is:\n",
      "35\n",
      "and it's type is:\n",
      "<class 'str'>\n"
     ]
    }
   ],
   "source": [
    "a = 3\n",
    "b = 5\n",
    "c = a + b\n",
    "\n",
    "a_string = \"3\"\n",
    "b_string = \"5\"\n",
    "c_string = a_string + b_string\n",
    "\n",
    "print(\"c made of integers is:\")\n",
    "print(c)\n",
    "print(\"and it's type is:\")\n",
    "print(type(c))\n",
    "print(\"--------------------\")\n",
    "print(\"c made of strings is:\")\n",
    "print(c_string)\n",
    "print(\"and it's type is:\")\n",
    "print(type(c_string))"
   ]
  },
  {
   "cell_type": "markdown",
   "metadata": {},
   "source": [
    "*Did you catch that?*\n",
    "\n",
    "- When `a` and `b` were integers, the result of the sum was an integer and the process was adding the numbers up.\n",
    "- When `a` and `b` were strings, the result of the sum was a string and the process was concatenating the strings.\n",
    "\n",
    "These result are way different and it all originates on how the variables were defined or how their values were assigned. This is why we need to be careful when assigning values and checking the data type of our variables, if we don't want to get unexpected results. This effect happens on other data types, we will go deeper into this on the next chapter."
   ]
  },
  {
   "cell_type": "markdown",
   "metadata": {},
   "source": [
    "### bool: The Boolean Data Type"
   ]
  },
  {
   "cell_type": "markdown",
   "metadata": {},
   "source": [
    "The boolean data type is the simplest of all. It can only have two values: `True` or `False`. This data type is used to represent the logical values of a statement, which actually make the most basic part of programming.\n",
    "\n",
    "There is not much more to say about booleans, at least for now. Because of how they are defined, the keywords `True` and `False` are also reserved in Python. Following up on what we said on the `str` data type, this values are used without quotes, since using quotes would create variables of `str` data type with the values for the text \"True\" and \"False\".\n",
    "\n",
    "**Usecase for booleans:** booleans are used to run checks on states of our code (remember we spoke about always checking the data type of our variables? Well that would be one of the checks..) and modify how are code runs depending on the result of those checks. We will see that much later, for now let's just end it on the boolean data type."
   ]
  },
  {
   "cell_type": "code",
   "execution_count": 45,
   "metadata": {},
   "outputs": [
    {
     "name": "stdout",
     "output_type": "stream",
     "text": [
      "<class 'bool'>\n",
      "<class 'bool'>\n",
      "c is:\n",
      "1\n",
      "and it's type is:\n",
      "<class 'int'>\n"
     ]
    }
   ],
   "source": [
    "a = True\n",
    "b = False\n",
    "c = a + b\n",
    "\n",
    "print(type(a))\n",
    "print(type(b))\n",
    "print(\"c is:\")\n",
    "print(c)\n",
    "print(\"and it's type is:\")\n",
    "print(type(c))"
   ]
  },
  {
   "cell_type": "markdown",
   "metadata": {},
   "source": [
    "Now what are we seeing there? The boolean types of the variables `a` and `b` are clear, since they are defined as `True` and `False` and their type results in `bool`. But what about the sum. Well I won't go much deeper on it, because it is not common, at least in Python, to use math operations on booleans. Instead booleans have their own operations that we will see on the next chapter. As for the sum, it is common to represent the boolean values as `0` and `1` for `False` and `True` respectively. So for the sum Python transforms them into integers and then add them up. But let's not get too deep into this."
   ]
  },
  {
   "cell_type": "markdown",
   "metadata": {},
   "source": [
    "### NoneType: The Undefined Data Type"
   ]
  },
  {
   "cell_type": "markdown",
   "metadata": {},
   "source": [
    "What if we want to prepare our code to receive a value, but we don't know what that value will be? Well, we can define a variable with the `None` value. This value is reserved in Python and it is used to represent the absence of a value.\n",
    "\n",
    "Its use in Python is not as common and important as other languages, because of the *dynamic typing* we mentioned before. Other languages require to predefined the variables that are going to be used, so they need a value to represent the absence of a value. In Python, we can just define a variable with any initial value and then change it when necessary. Still, it is still used in some cases, so we will cover it briefly."
   ]
  },
  {
   "cell_type": "code",
   "execution_count": 46,
   "metadata": {},
   "outputs": [
    {
     "name": "stdout",
     "output_type": "stream",
     "text": [
      "The value of a is:\n",
      "None\n",
      "and it's type is:\n",
      "<class 'NoneType'>\n"
     ]
    }
   ],
   "source": [
    "a = None\n",
    "\n",
    "print(\"The value of a is:\")\n",
    "print(a)\n",
    "print(\"and it's type is:\")\n",
    "print(type(a))"
   ]
  },
  {
   "cell_type": "markdown",
   "metadata": {},
   "source": [
    "## Compound Data Types"
   ]
  },
  {
   "cell_type": "markdown",
   "metadata": {},
   "source": [
    "We have already seen the *simple* data types. I promised you would understand what this *simple* vs *compound* categories meant. Well, here we are, and I'm a bit scared.. But let's go step by step.\n",
    "\n",
    "On *simple* data types, the value of the variable is the value itself. For example, if we define a variable `a` as `3`, the value of `a` is `3`.\n",
    "Instead, *compound* data types consist of many values put togheter in a single variable. This is why they are called *compound*, because they are composed of many values. This aggregation is done differently depending on each of the data types.\n",
    "\n",
    "Was that clear enough? Can I breath easily? No? Well, let's start seeing each value and then maybe the concept will be clearer. I hope..."
   ]
  },
  {
   "cell_type": "markdown",
   "metadata": {},
   "source": [
    "### list: The Array Data Type"
   ]
  },
  {
   "cell_type": "markdown",
   "metadata": {},
   "source": [
    "The list data type is the most basic, and I dare say commmon, compound data type. It is used to store a collection of values. These values can be of any data type, and they can be repeated. The values are stored in the order they are added to the list.\n",
    "\n",
    "To define a list we use square brackets `[]` and separate the values with commas `,`. Now that we are talking about compound values, something interesting is that changing the list does not necessarily mean assigning a new value to the variable, but also removing or adding values to the list. We will see this in a moment.\n",
    "\n",
    "For all of you that come from any other programming language and read \"array data type\" I have to tell you that Python does not have arrays. Instead, it has lists. They are similar, but not the same. You will see most differences when we start working with them, but the most common is that most programming languages require the values of an array to be of the same data type, while Python allows them to be mixed however we want."
   ]
  },
  {
   "cell_type": "code",
   "execution_count": 47,
   "metadata": {},
   "outputs": [
    {
     "name": "stdout",
     "output_type": "stream",
     "text": [
      "<class 'list'>\n",
      "<class 'list'>\n"
     ]
    }
   ],
   "source": [
    "a = [] # empty list\n",
    "b = [1, 2, 3, 4, 5] # list of integers\n",
    "\n",
    "print(type(a))\n",
    "print(type(b))"
   ]
  },
  {
   "cell_type": "markdown",
   "metadata": {},
   "source": [
    "**Adding elements to a list:**\n",
    "We will mainly use the method `append()` to add elements to a list. A method is not exactly the same as a function, but for now all you need to know is that `append()` is not used independently like `print()` or `type()`, but from the list variable with a predecing dot `.`.\n",
    "\n",
    "***\n",
    "\n",
    "**Note:** Another method that might not be that commmon is to use the `+` operator, which concatenates lists like it did with strings. (Keep this secret, strings in Python are internally handled as list of characters (OH NO! NOT THE CHARS AGAIN!))"
   ]
  },
  {
   "cell_type": "code",
   "execution_count": 48,
   "metadata": {},
   "outputs": [
    {
     "name": "stdout",
     "output_type": "stream",
     "text": [
      "my_list before appending: [1, 2, 3, 4, 5]\n",
      "my_list after appending: [1, 2, 3, 4, 5, 6]\n",
      "my_list after appending many values: [1, 2, 3, 4, 5, 6, 7, 8, 9]\n"
     ]
    }
   ],
   "source": [
    "my_list = [1, 2, 3, 4, 5]\n",
    "\n",
    "print(\"my_list before appending:\", my_list)\n",
    "\n",
    "my_list.append(6)\n",
    "\n",
    "print(\"my_list after appending:\", my_list)\n",
    "\n",
    "my_list2 = my_list + [7, 8, 9]\n",
    "\n",
    "print(\"my_list after appending many values:\", my_list2) "
   ]
  },
  {
   "cell_type": "markdown",
   "metadata": {},
   "source": [
    "Aside from seeing the effect of append and the `+` operator, check out how we are printing the data. Instead of adding strings, another way to use print is to separate the values with commas `,`. This will print the values separated by a space, and will also add a new line at the end. This helps us not having to include a print for each message and each variable we want to print.\n",
    "\n",
    "**Retrieving elements from a list:**\n",
    "\n",
    "To retrieve elements from a list we use the index of the element we want to retrieve. The index is the position of the element in the list. The first element has an index of 0, the second an index of 1, and so on. We can also use negative indexes, which will start from the end of the list. The last element has an index of -1, the second to last an index of -2, and so on.\n",
    "\n",
    "To actually access the value we use the name of the list followed by square brackets `[]` and inside the index of the element we want to retrieve. This is called **indexing**."
   ]
  },
  {
   "cell_type": "code",
   "execution_count": 49,
   "metadata": {},
   "outputs": [
    {
     "name": "stdout",
     "output_type": "stream",
     "text": [
      "my_list is: [1, 2, 3, 4, 5, 6]\n",
      "The first element of my_list is: 1\n",
      "The second element of my_list is: 2\n",
      "The last element of my_list is: 6\n",
      "The fourth element of my_list is: 4\n"
     ]
    }
   ],
   "source": [
    "print(\"my_list is:\", my_list)\n",
    "print(\"The first element of my_list is:\", my_list[0])\n",
    "print(\"The second element of my_list is:\", my_list[1])\n",
    "print(\"The last element of my_list is:\", my_list[-1])\n",
    "print(\"The fourth element of my_list is:\", my_list[3])"
   ]
  },
  {
   "cell_type": "markdown",
   "metadata": {},
   "source": [
    "I know having the first element with an index of 0 might seem weird, but it is actually very common in programming languages, and you'll get used to it in time. And don't worry, there are much more complex things to come, for example let's talk about **slicing**.\n",
    "\n",
    "Instead of retrieveing one element of a list, we might want to extract many of them. **slicing** does that by extracting a sublist of values from the original list in a sequential way. This means we tell Python where to start extracting elements and where to stop. Like **indexing**, **slicing** uses square brackets `[]` after the name of the list. \n",
    "\n",
    "Inside the square brackets we include the *beggining*, *end* and *step* values, separated by colons: `my_list[beggining:end:step]`:\n",
    "- *beggining*: index of the first element we want to extract.\n",
    "- *end*: the index of the first element we DON'T WANT to extract, so the following to the one we DO want to extract. (yes.. a bit confusing too!) \n",
    "- *step*: the jump or skip we want to extract elements by\n",
    "\n",
    "We can skip each of these values if we want to extraction to use the defaults, which are: 0 for beggining, the length of the list for end, and 1 for the step.\n",
    "\n",
    "That was a lot to take in, right? What if we act as if it wasn't that much and continue with some examples:"
   ]
  },
  {
   "cell_type": "code",
   "execution_count": 50,
   "metadata": {},
   "outputs": [
    {
     "name": "stdout",
     "output_type": "stream",
     "text": [
      "my_list is: [1, 2, 3, 4, 5, 6]\n",
      "If we want to extract the first two elements of my_list:\n",
      "The first index to extract is 0. Since it's the default value, we can omit it.\n",
      "The last index to extract is 1, so the first index to NOT extract (which is the one we need) is 2.\n",
      "The step is 1, which is the default value, so we can omit it.\n",
      "The first two elements of my_list are: [1, 2]\n",
      "The first two elements of my_list, omitting step, are: [1, 2]\n",
      "The first two elements of my_list, omitting step and beggining, are: [1, 2]\n",
      "----------\n",
      "If we want to extract the odd numbers, that are positioned on the 1st, 3rd, 5th elements of my_list:\n",
      "The first index to extract is 0. Since it's the default value, we can omit it.\n",
      "The last index to extract is 5, so the first index to NOT extract (which is the one we need) is 6. We can also omit it because we don't mind going to the end of the list.\n",
      "The step is 2, because we want to skip one element every time.\n",
      "The odd numbers of my_list are: [1, 3, 5]\n",
      "The odd numbers of my_list, omitting end, are: [1, 3, 5]\n",
      "The odd numbers of my_list, omitting end and beggining, are: [1, 3, 5]\n"
     ]
    }
   ],
   "source": [
    "print(\"my_list is:\", my_list)\n",
    "print(\"If we want to extract the first two elements of my_list:\")\n",
    "print(\"The first index to extract is 0. Since it's the default value, we can omit it.\")\n",
    "print(\"The last index to extract is 1, so the first index to NOT extract (which is the one we need) is 2.\")\n",
    "print(\"The step is 1, which is the default value, so we can omit it.\")\n",
    "print(\"The first two elements of my_list are:\", my_list[0:2:1])\n",
    "print(\"The first two elements of my_list, omitting step, are:\", my_list[0:2])\n",
    "print(\"The first two elements of my_list, omitting step and beggining, are:\", my_list[:2])\n",
    "\n",
    "print(\"----------\")\n",
    "\n",
    "print(\"If we want to extract the odd numbers, that are positioned on the 1st, 3rd, 5th elements of my_list:\")\n",
    "print(\"The first index to extract is 0. Since it's the default value, we can omit it.\")\n",
    "print(\"The last index to extract is 5, so the first index to NOT extract (which is the one we need) is 6. We can also omit it because we don't mind going to the end of the list.\")\n",
    "print(\"The step is 2, because we want to skip one element every time.\")\n",
    "print(\"The odd numbers of my_list are:\", my_list[0:6:2])\n",
    "print(\"The odd numbers of my_list, omitting end, are:\", my_list[0::2])\n",
    "print(\"The odd numbers of my_list, omitting end and beggining, are:\", my_list[::2])"
   ]
  },
  {
   "cell_type": "markdown",
   "metadata": {},
   "source": [
    "We will use slicing **A LOT**, and I promise I will continue explaining it again and again as we go. For now, try to understand the concept and play a bit with the examples (you can make your own too!)."
   ]
  },
  {
   "cell_type": "markdown",
   "metadata": {},
   "source": [
    "**Removing elements from a list:**\n",
    "\n",
    "There are two ways of removing an element from a list:\n",
    "\n",
    "- Using the `remove()` method, which will remove the first element that matches the value we pass as an argument (inside the parenthesis).\n",
    "- Using the `pop()` method, which will remove the element at the index we pass as an argument (inside the parenthesis). If we don't pass any argument, it will remove the last element of the list. An extra feature of `pop()` is that it will return the value of the element it removed, so we can assign it to a variable."
   ]
  },
  {
   "cell_type": "code",
   "execution_count": 51,
   "metadata": {},
   "outputs": [
    {
     "name": "stdout",
     "output_type": "stream",
     "text": [
      "my_list is: [1, 2, 3, 4, 5, 6]\n",
      "my_list after removing the value 4: [1, 2, 3, 5, 6]\n",
      "my_list after popping the first element: [2, 3, 5, 6]\n",
      "said remove element is: 1\n",
      "my_list after popping the third element: [2, 3, 6]\n",
      "said remove element is: 5\n"
     ]
    }
   ],
   "source": [
    "print(\"my_list is:\", my_list)\n",
    "my_list.remove(4)\n",
    "print(\"my_list after removing the value 4:\", my_list)\n",
    "first_element = my_list.pop(0)\n",
    "print(\"my_list after popping the first element:\", my_list)\n",
    "print(\"said remove element is:\", first_element)\n",
    "third_element = my_list.pop(2)\n",
    "print(\"my_list after popping the third element:\", my_list)\n",
    "print(\"said remove element is:\", third_element)"
   ]
  },
  {
   "cell_type": "markdown",
   "metadata": {},
   "source": [
    "**Replacing elements on a list:**\n",
    "\n",
    "To replace an element on the list we use the same structure we used to retrieve an element but using the assignment operator `=`, as if that element were a variable (which in a way, it is). We can also replace multiple elements at once using **slicing**, but keep in mind the number of elements we are replacing must match the number of elements we are replacing them with."
   ]
  },
  {
   "cell_type": "code",
   "execution_count": 52,
   "metadata": {},
   "outputs": [
    {
     "name": "stdout",
     "output_type": "stream",
     "text": [
      "my_list is: [1, 2, 3, 4, 5, 6]\n",
      "my_list after changing the first element: [10, 2, 3, 4, 5, 6]\n",
      "my_list after changing the third element: [10, 2, 'b', 4, 5, 6]\n",
      "my_list after changing the fourth and fifth elements: [10, 2, 'b', 'c', 'd', 6]\n"
     ]
    }
   ],
   "source": [
    "my_list = [1, 2, 3, 4, 5, 6] # we restart my_list because of all the popping and removing\n",
    "print(\"my_list is:\", my_list)\n",
    "my_list[0] = 10 * my_list[0]\n",
    "print(\"my_list after changing the first element:\", my_list)\n",
    "my_list[2] = \"b\"\n",
    "print(\"my_list after changing the third element:\", my_list)\n",
    "my_list[3:5] = [\"c\", \"d\"]\n",
    "print(\"my_list after changing the fourth and fifth elements:\", my_list)"
   ]
  },
  {
   "cell_type": "markdown",
   "metadata": {},
   "source": [
    "Okey that's it for lists! I know it was a lot, but keep in mind this is already a much more complex concept than what we saw on the *simple* data types. There are still other things we can do with lists, but this are the most common ones. We will see the others as we meet them on our Python journey.\n",
    "\n",
    "Let's see the other main compound data type, which is dictionaries."
   ]
  },
  {
   "cell_type": "markdown",
   "metadata": {},
   "source": [
    "### dict: The Hashing Data Type"
   ]
  },
  {
   "cell_type": "markdown",
   "metadata": {},
   "source": [
    "I won't say dictionaries, or `dicts` are easier than list, but at least you should get a notion of what compound data types are.\n",
    "\n",
    "Dictionaries, like lists, group values together. But instead of accessing values by their position, using their index, we assing a key to each value. This key is similar to giving a name to a variable, but inside another variable. The hashing comes from the way Python stores the values and retrieves them with that name, and we won't go deeper into that for now, I just used the word to be a reference for people coming from other programming languages that include Maps and HashMaps, and - let's be honest - also to sound cool.\n",
    "\n",
    "Dictionaries are defined using curly brackets `{}` instead of the square brackets of lists. They can also be created as empty dictionaries, but if we want to add values on the spot, aside from listing the values separated by commas, we have to give each value a key by using a colon `:` preceded by a string with the key name. For example: `{ \"key1\" : value1, \"key2\" : value2 }`"
   ]
  },
  {
   "cell_type": "code",
   "execution_count": 53,
   "metadata": {},
   "outputs": [
    {
     "name": "stdout",
     "output_type": "stream",
     "text": [
      "<class 'dict'>\n",
      "<class 'dict'>\n",
      "The value of b is:\n",
      "{'a': 1, 'b': 2, 'c': 3}\n"
     ]
    }
   ],
   "source": [
    "a = {} # empty dictionary\n",
    "b = {\"a\": 1, \"b\": 2, \"c\": 3} # dictionary with three key-value pairs\n",
    "\n",
    "print(type(a))\n",
    "print(type(b))\n",
    "print(\"The value of b is:\")\n",
    "print(b)"
   ]
  },
  {
   "cell_type": "markdown",
   "metadata": {},
   "source": [
    "There we go! We created a dictionary with three values (1, 2, 3) each with the corresponding key (\"a\", \"b\", \"c\").\n",
    "\n",
    "But how is this different from having the values on the list. Well all the operations we saw for lists are also available for dictionaries, but instead of having to be aware of the position of the elements, we can use the keys to access them. This key should be something related to the value inside, or else there is no real use for dicitionaries."
   ]
  },
  {
   "cell_type": "markdown",
   "metadata": {},
   "source": [
    "**Retrieving elements from a dictionary:**\n",
    "\n",
    "As we said, we can retrieve elements from a dictionary using the key. To do this we use the name of the dictionary followed by square brackets `[]` and inside the key of the element we want to retrieve. This is called **indexing**.\n",
    "\n",
    "The dictionary method `keys()` can be used to list the keys of a dictionary. There is also a dictionary method `values()` that will get something similar to a list of values, but using it is not that common since it would lose the purpose of using a dictionary."
   ]
  },
  {
   "cell_type": "code",
   "execution_count": 54,
   "metadata": {},
   "outputs": [
    {
     "name": "stdout",
     "output_type": "stream",
     "text": [
      "my_dict is: {'bananas': 3, 'apple': 2, 'oranges': 5}\n",
      "the keys available in my_dict are: dict_keys(['bananas', 'apple', 'oranges'])\n",
      "the value under the 'bananas' key is: 3\n",
      "the value under the 'apple' key is: 2\n"
     ]
    }
   ],
   "source": [
    "my_dict = {\"bananas\": 3, \"apple\": 2, \"oranges\": 5}\n",
    "\n",
    "print(\"my_dict is:\", my_dict)\n",
    "print(\"the keys available in my_dict are:\", my_dict.keys())\n",
    "print(\"the value under the 'bananas' key is:\", my_dict[\"bananas\"])\n",
    "print(\"the value under the 'apple' key is:\", my_dict[\"apple\"])"
   ]
  },
  {
   "cell_type": "markdown",
   "metadata": {},
   "source": [
    "Unlike *indexing* on lists that had its multiple-elements counterpart *slicing*, there is no simple way to extract more than one element from a dictionary, but this is not that common, in case we need to do so later in the course, we will see which options we have.\n",
    "\n",
    "**Replacing values in a dictionary:**\n",
    "\n",
    "Now I know what you are thinking: \"if we are covering the same processes we did on lists, why don't we do that in the same order?\". Yes, I know, it's hurting my mild OCD too, but I promise I have my reasons.\n",
    "\n",
    "To replace a value on a dictionary we use the same structure we used to retrieve an element but using the assignment operator `=`, as if that element were a variable (which in a way, it is).\n",
    "\n",
    "(yes, it's an exact copy of the sentence in *Replacing elements on a list*.. That is how similar this process is)"
   ]
  },
  {
   "cell_type": "code",
   "execution_count": 55,
   "metadata": {},
   "outputs": [
    {
     "name": "stdout",
     "output_type": "stream",
     "text": [
      "my_dict is: {'bananas': 3, 'apple': 2, 'oranges': 5}\n",
      "my_dict after changing the value under the 'bananas' key: {'bananas': 10, 'apple': 2, 'oranges': 5}\n",
      "my_dict after changing the value under the 'oranges' key: {'bananas': 10, 'apple': 2, 'oranges': 6}\n"
     ]
    }
   ],
   "source": [
    "print(\"my_dict is:\", my_dict)\n",
    "my_dict[\"bananas\"] = 10\n",
    "print(\"my_dict after changing the value under the 'bananas' key:\", my_dict)\n",
    "my_dict[\"oranges\"] = my_dict[\"oranges\"] + 1\n",
    "print(\"my_dict after changing the value under the 'oranges' key:\", my_dict)"
   ]
  },
  {
   "cell_type": "markdown",
   "metadata": {},
   "source": [
    "**Adding values to a dictionary:**\n",
    "\n",
    "To add values to a dictionary we don't have a method like `append()`, since there is no need for positioning elements. Instead we access the new key-value pair as if it were already there and assign it a value. When we do this process, if there is a value under the key Python will replace it, if there is no value, Python will create it. You'll see the same structure is used on **replacing** elements. That is why I changed the order in which I showed you this processes (bazinga!)."
   ]
  },
  {
   "cell_type": "code",
   "execution_count": 56,
   "metadata": {},
   "outputs": [
    {
     "name": "stdout",
     "output_type": "stream",
     "text": [
      "my_dict is: {'bananas': 10, 'apple': 2, 'oranges': 6}\n",
      "my_dict after adding a new key-value pair at grapes: {'bananas': 10, 'apple': 2, 'oranges': 6, 'grapes': 15}\n"
     ]
    }
   ],
   "source": [
    "print(\"my_dict is:\", my_dict)\n",
    "my_dict[\"grapes\"] = 15\n",
    "print(\"my_dict after adding a new key-value pair at grapes:\", my_dict)"
   ]
  },
  {
   "cell_type": "markdown",
   "metadata": {},
   "source": [
    "**Removing values from a dictionary:**\n",
    "\n",
    "We can remove elements from a dictionary by using the `pop()` method. This is similar to the one we used on lists, but instead of passing and index as an argument, we pass the key of the element we want to remove. Another difference is that there is no default value to remove (remember `pop()` on lists with no argument removed the last one) since there is no positions for elements on dictionaries. What they do have in common is returning that value so using the assign operator `=` we can assign the removed value to a variable.\n",
    "\n",
    "Another way you might find commonly is the `del` keyword. This keyword is used to delete variables in general, including the values inside a dictionary. A particularity of this keyword is that is not used in a function or method-like structure, but more like an operator (we will see them next chapter). To use it we write `del` followed by the reference to the element in the dictionary."
   ]
  },
  {
   "cell_type": "code",
   "execution_count": 57,
   "metadata": {},
   "outputs": [
    {
     "name": "stdout",
     "output_type": "stream",
     "text": [
      "my_dict is: {'bananas': 10, 'apple': 2, 'oranges': 6, 'grapes': 15}\n",
      "my_dict after removing the key-value pair at apple: {'bananas': 10, 'oranges': 6, 'grapes': 15}\n",
      "the removed value is: 2\n",
      "my_dict after removing the key-value pair at bananas: {'oranges': 6, 'grapes': 15}\n"
     ]
    }
   ],
   "source": [
    "print(\"my_dict is:\", my_dict)\n",
    "removed_value = my_dict.pop(\"apple\")\n",
    "print(\"my_dict after removing the key-value pair at apple:\", my_dict)\n",
    "print(\"the removed value is:\", removed_value)\n",
    "del my_dict[\"bananas\"]\n",
    "print(\"my_dict after removing the key-value pair at bananas:\", my_dict)"
   ]
  },
  {
   "cell_type": "markdown",
   "metadata": {},
   "source": [
    "And that is basically it! There are two more compound data types I would like to mention but since we will probably not use them on this course much, I will not get into the specific details and just give you a brief description:\n",
    "\n",
    "- **tuple, the Inmutable Data Type**: Tuples are like lists, but once they are created, they can not be modified. This means we can not add, remove or replace elements on a tuple. This might seem like a disadvantage, but it is actually very useful when we want to make sure the values on a variable won't change. Tuples are defined using parenthesis `()` instead of the square brackets of lists.\n",
    "\n",
    "- **sets, the Unique Data Type**: Sets are like lists, but they can not have repeated values. This means that if we try to add a value that is already on the set, it will not be added. Sets are defined using curly brackets `{}`, like dictionaries, but without giving a key to each value. Sets are used in very specific context where, like their description, we want no repetition."
   ]
  },
  {
   "cell_type": "code",
   "execution_count": 58,
   "metadata": {},
   "outputs": [
    {
     "name": "stdout",
     "output_type": "stream",
     "text": [
      "<class 'tuple'>\n",
      "<class 'set'>\n"
     ]
    }
   ],
   "source": [
    "my_tuple = (2, 5, 9)\n",
    "my_set = {2, 5, 9}\n",
    "\n",
    "print(type(my_tuple))\n",
    "print(type(my_set))"
   ]
  },
  {
   "cell_type": "markdown",
   "metadata": {},
   "source": [
    "Before ending compound data types, keep in mind they can be **nested**. This means they not only group values of the simple data types, but also of the compound data types. Let's create, for example, a dictionary with categories of things where each value is a list of strings or numbers (int or float) of that category:"
   ]
  },
  {
   "cell_type": "code",
   "execution_count": 59,
   "metadata": {},
   "outputs": [],
   "source": [
    "categ_dict = {\n",
    "    \"animals\": [\"dog\", \"cat\", \"bird\"],\n",
    "    \"fruits\": [\"apple\", \"banana\", \"orange\"],\n",
    "    \"even\": [2, 4, 6, 8],\n",
    "    \"primes\": [2, 3, 5, 7],\n",
    "    \"irrationals\": [3.14, 2.71]\n",
    "}"
   ]
  },
  {
   "cell_type": "markdown",
   "metadata": {},
   "source": [
    "This is just one example, and a really simple one at that. We will later encounter lists of dictionaries, or even list of dictionaries of lists of lists of dicitonaries. The more complex an object like this is, the more time it will take us to understand how it works, but likely it will provide us more tools too!"
   ]
  },
  {
   "cell_type": "markdown",
   "metadata": {},
   "source": [
    "## Conversion: using the data types keywords\n",
    "\n",
    "Now that we know the data types, we can start converting between them. There are plenty of situations where this will be useful. For example, our user might give us a number as a string and we want to transform it into an integer or float to use it on a math operation. Or the other way around, we might get the result of a math operation and want to concatenate it at the end of a message string to print it.\n",
    "\n",
    "It is important to know that not every conversion is possible. For example, we can not convert a string that says \"Hello World\" into an integer, since it is not a number. In the cases were we can't, Python will throw us an error with the description. We'll stay out of there for know, but be sure we will see them later.\n",
    "\n",
    "The easiest way to convert data types is to use the data type keywords as functions. If you take a quick look at the list above, I introduced every data type with their corresponding keyword first: `int` for Integers, `str` for Strings, `dict` for dictionaries and so on. Well, those keywords are also functions that will convert the value we pass as an argument (inside the parenthesis) to the data type they represent:"
   ]
  },
  {
   "cell_type": "code",
   "execution_count": 60,
   "metadata": {},
   "outputs": [
    {
     "name": "stdout",
     "output_type": "stream",
     "text": [
      "a_int is: 3 and it's type is: <class 'int'>\n",
      "a_float is: 3.0 and it's type is: <class 'float'>\n",
      "a_string is: 3 and it's type is: <class 'str'>\n",
      "----------\n",
      "hello_string is: hello and it's type is: <class 'str'>\n",
      "hello_list is: ['h', 'e', 'l', 'l', 'o'] and it's type is: <class 'list'>\n",
      "hello_set is: {'l', 'e', 'o', 'h'} and it's type is: <class 'set'>\n",
      "hello_tuple is: ('h', 'e', 'l', 'l', 'o') and it's type is: <class 'tuple'>\n"
     ]
    }
   ],
   "source": [
    "a_int = 3\n",
    "a_float = float(a_int)\n",
    "a_string = str(a_int)\n",
    "\n",
    "print(\"a_int is:\", a_int, \"and it's type is:\", type(a_int))\n",
    "print(\"a_float is:\", a_float, \"and it's type is:\", type(a_float))\n",
    "print(\"a_string is:\", a_string, \"and it's type is:\", type(a_string))\n",
    "\n",
    "print(\"----------\")\n",
    "\n",
    "hello_string = \"hello\"\n",
    "hello_list = list(hello_string)\n",
    "hello_set = set(hello_string)\n",
    "hello_tuple = tuple(hello_string)\n",
    "\n",
    "print(\"hello_string is:\", hello_string, \"and it's type is:\", type(hello_string))\n",
    "print(\"hello_list is:\", hello_list, \"and it's type is:\", type(hello_list))\n",
    "print(\"hello_set is:\", hello_set, \"and it's type is:\", type(hello_set))\n",
    "print(\"hello_tuple is:\", hello_tuple, \"and it's type is:\", type(hello_tuple))\n"
   ]
  },
  {
   "cell_type": "markdown",
   "metadata": {},
   "source": [
    "## That's it!\n",
    "\n",
    "That's it for this chapter. Don't you feel great yet? We've done a lot this time!\n",
    "\n",
    "### We learned:\n",
    "\n",
    "- What are data types and how to check them with the `type()` function.\n",
    "- The *simple* data types: `int`, `float`, `str`, `bool` and `NoneType`. (and suuuure, also `char`)\n",
    "- The *compound* data types: `list` and `dict`. (and a bit of `tuple` and `set`)\n",
    "- How deep a *compound* data type can be nested.\n",
    "- How to convert between data types using the data type keywords as functions.\n",
    "\n",
    "### Next chapter we will:\n",
    "\n",
    "- Learn about operations, which will allow us to do make things happen with the data types we covered up to now."
   ]
  },
  {
   "cell_type": "markdown",
   "metadata": {},
   "source": []
  }
 ],
 "metadata": {
  "kernelspec": {
   "display_name": "base",
   "language": "python",
   "name": "python3"
  },
  "language_info": {
   "codemirror_mode": {
    "name": "ipython",
    "version": 3
   },
   "file_extension": ".py",
   "mimetype": "text/x-python",
   "name": "python",
   "nbconvert_exporter": "python",
   "pygments_lexer": "ipython3",
   "version": "3.10.9"
  },
  "orig_nbformat": 4
 },
 "nbformat": 4,
 "nbformat_minor": 2
}
