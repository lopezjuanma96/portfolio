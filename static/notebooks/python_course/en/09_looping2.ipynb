{
 "cells": [
  {
   "cell_type": "markdown",
   "metadata": {},
   "source": [
    "# 09 - Something in the way you move\n",
    "\n",
    "SAY SOMETHING ABOUT BREAK THE BREAKING OF THE SEQUENCE."
   ]
  },
  {
   "cell_type": "code",
   "execution_count": null,
   "metadata": {},
   "outputs": [],
   "source": []
  },
  {
   "cell_type": "markdown",
   "metadata": {},
   "source": [
    "INCLUDE THE \"SOMETHING STUPID\" EXAMPLE OF THE PREV CHAPTER BUT USING BREAK."
   ]
  },
  {
   "cell_type": "markdown",
   "metadata": {},
   "source": []
  }
 ],
 "metadata": {
  "language_info": {
   "name": "python"
  },
  "orig_nbformat": 4
 },
 "nbformat": 4,
 "nbformat_minor": 2
}
