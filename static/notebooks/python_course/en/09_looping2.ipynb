{
 "cells": [
  {
   "cell_type": "markdown",
   "metadata": {},
   "source": [
    "# 09 - Something in the way you move (tell me now tell me now you know)\n",
    "\n",
    "Your head might still be going around the idea of breakking the sequence with loops (there must be a pun there too), but dare we **BREAK** what was **BREAKING THE SEQUENCE**?\n",
    "\n",
    "Well you saw how we could nest loops and conditionals, which in a way **BREAKS THE SEQUENCE** inside the sequence breaker. But there are also other ways to change how loops work. We will now learn how to use the `break`, `continue` and `pass` statements."
   ]
  },
  {
   "cell_type": "markdown",
   "metadata": {},
   "source": [
    "## The `break` statement, or maybe the **BREAK** statement?"
   ]
  },
  {
   "cell_type": "markdown",
   "metadata": {},
   "source": [
    "We use the `break` statement when we want the loop to stop before it the moment it was supposed to originally stop. You can think of it as literally *breaking* the loop as if it was a toy, when it encounters the `break` statement, that loop stops working."
   ]
  },
  {
   "cell_type": "code",
   "execution_count": null,
   "metadata": {},
   "outputs": [],
   "source": [
    "for i in range(10):\n",
    "    print(\"I'm counting up to 10, and now I'm at\", i+1)\n",
    "    if i == 7:\n",
    "        print(\"I'm tired of counting, I'm breaking out of this loop!\")\n",
    "        break"
   ]
  },
  {
   "cell_type": "markdown",
   "metadata": {},
   "source": [
    "As you can see, without the `break` statement this loop was supposed to count up from 1 to 10 (but `i` would have gone from 0 to 9, right?), yet it stopped at 8 (when `i` was 7, right?).\n",
    "\n",
    "And that is basically how it works. Let's see it with the `while` loop now:"
   ]
  },
  {
   "cell_type": "code",
   "execution_count": null,
   "metadata": {},
   "outputs": [],
   "source": [
    "repeat_after_me = [\"I\", \"am\", \"surely\", \"ready\"]\n",
    "\n",
    "i = 0\n",
    "while i < len(repeat_after_me):\n",
    "    print(\"- Phoebe:\", repeat_after_me[i])\n",
    "\n",
    "    if repeat_after_me[i] == \"ready\":\n",
    "        print(\"- Joey: ready for a hamburger!\")\n",
    "        break\n",
    "    print(\"- Joey:\", repeat_after_me[i])\n",
    "\n",
    "    i += 1"
   ]
  },
  {
   "cell_type": "markdown",
   "metadata": {},
   "source": [
    "*Caught the [reference](https://www.youtube.com/watch?v=pOYfS1HXpKw)?*\n",
    "\n",
    "Now what do we use this for? Usecases:\n",
    "- Let's say our program is designed to run on a loop under certain conditions, but something unexpected happens, we can prevent any destruction of the world if we break the loop and finish our program on time.\n",
    "- Later we will learn how to let the users of our programs input values, we can use a loop statement to keep asking for input until the user inputs a valid value, and then break the loop.\n",
    "- There is a special way of using `while` loops where we provide a **theoretically infinite** loop but we then add a `break statement` inside. I used this once on a project of a webcam app, which entered a loop and continuously refresh the picture, but once the user clicked a certain button, the loop breaks and the program ended, closing the app. This type of loops are not a specific subject of this course, but it's likely that we will need them at some point."
   ]
  },
  {
   "cell_type": "markdown",
   "metadata": {},
   "source": [
    "## The `continue` statement, or the \"quick! next one!\" statement"
   ]
  },
  {
   "cell_type": "markdown",
   "metadata": {},
   "source": [
    "The continue `statement` is the shier cousin of the `break` statement. It doesn't stop the loop, but it stops the current iteration of the loop and goes to the next one.\n",
    "\n",
    "If you were running laps around a track, and you were too tired you would use the `break` statement to stop your suffering. But if you were not that tired and would like everyone to think you are a good runner, you would use the `continue` statement to take a shortcur and skip a lap to go to the next one.\n",
    "\n",
    "Let's see it in action:"
   ]
  },
  {
   "cell_type": "code",
   "execution_count": null,
   "metadata": {},
   "outputs": [],
   "source": [
    "colours = {\n",
    "    \"red\": {\"category\": \"primary\", \"opposite\": \"green\"},\n",
    "    \"green\": {\"category\": \"secondary\", \"opposite\": \"red\"},\n",
    "    \"blue\": {\"category\": \"primary\", \"opposite\": \"orange\"},\n",
    "    \"white\": {},\n",
    "    \"yellow\": {\"category\": \"secondary\", \"opposite\": \"purple\"},\n",
    "    \"purple\": {\"category\": \"secondary\", \"opposite\": \"yellow\"},\n",
    "    \"orange\": {\"category\": \"secondary\", \"opposite\": \"blue\"},\n",
    "    \"black\": {},\n",
    "    \"pink\": {},\n",
    "    \"brown\": {}\n",
    "}\n",
    "\n",
    "for colour in colours.keys():\n",
    "    print(\"Let's talk about the\", colour, \"colour.\")\n",
    "\n",
    "    if colour == \"white\":\n",
    "        print(\"Well I don't need to talk about white, do I?\")\n",
    "        continue\n",
    "    elif colour == \"black\":\n",
    "        print(\"Oh no no no, if you include black I'm leaving..\")\n",
    "        break\n",
    "\n",
    "    print(\"The colour\", colour, \"is a\", colours[colour][\"category\"], \"colour.\")\n",
    "    print(\"The opposite of\", colour, \"is\", colours[colour][\"opposite\"], \"colour.\")\n",
    "    print(\"What a nice colour\", colour, \"is!\\n \")"
   ]
  },
  {
   "cell_type": "markdown",
   "metadata": {},
   "source": [
    "See? When we encounter the colour white we don't do all the prints at the end of the loop, because the continue statement skips right to the next iteration of the loop, or what is the same, the next colour in the list. On the other hand, when we encounter the colour black, we completely break the loop because not only we don't run the bottom prints, but we don't even continue the loop iterations, the following colours don't even get mentioned.\n",
    "\n",
    "We don't need to use the `continue` statement necessarily with a `break` statement, I used them both here to compare how they work."
   ]
  },
  {
   "cell_type": "markdown",
   "metadata": {},
   "source": [
    "## The `pass` statement, or the \"hollow man\" statement\n",
    "\n",
    "The `pass` statement is like the boring cousing of the other too. Well if we don't want to make it feel bad, let's say the most introverted cousin. It doesn't do anything, Python just goes through it as if it wasn't there. It's like a ghost, it's there but it's not.\n",
    "\n",
    "It is commonly used as a *placeholder*. This means it occupies a space in the code that we will likely fill later, or a space in code that we don't want to fill, but Python's syntax requires us to do so.\n",
    "\n",
    "Imagine your boss comes up to you an says: go through all this numbers and for even numbers do this, this and that. Then you ask them: and for odd numbers? And they say: oh, I don't know, we might do something with them later, but for now just do nothing. Here is a way you could put that into code:"
   ]
  },
  {
   "cell_type": "code",
   "execution_count": null,
   "metadata": {},
   "outputs": [],
   "source": [
    "numbers = [1, 2, 3, 4, 5, 6, 7, 8, 9]\n",
    "\n",
    "for number in numbers:\n",
    "    if number % 2 == 0:\n",
    "        print(number, \"is an even number. So I'm doing a LOT of calculations...\")\n",
    "        calculations = number + number - 1 * number\n",
    "        print(\"Calculations are done, the result is\", calculations, \"... WOW!!\")\n",
    "    else:\n",
    "        pass"
   ]
  },
  {
   "cell_type": "markdown",
   "metadata": {},
   "source": [
    "Yes, if you are of the attentive bunch, you could say we don't need to use the `pass` statement, because we don't **ACTUALLY NEED** the else to be there. `if`'s statement can be used on their own. And you are right! But in this case we won't exactly that, to leave something in the code that will catch our eye and remind us that we might need to add something there later.\n",
    "\n",
    "There **ARE** other cases where the `pass` statement will come in handy because we will **NEED** to fill a space, but that is a subject for another day.\n",
    "\n",
    "One important thing about the `pass` statement is that it is not exclusive to loops, it can be used anywhere in Python. Well actually all of these statements can be used anywhere in Python, but there would make little sense to `break` or `continue` a conditional statement, since it only runs once, there are no loops to break."
   ]
  },
  {
   "cell_type": "markdown",
   "metadata": {},
   "source": [
    "### Something less stupid\n",
    "\n",
    "Now, remember the *\"Something stupid\"* example from last lesson? We can make it a little less stupid with the break statement. How? Well if we put the `break` plainly out in the open, but inside the `while` loop, whithout checking for any special condition, the loop is going to break the first time it runs, running only once or not at all if the condition is not met."
   ]
  },
  {
   "cell_type": "code",
   "execution_count": null,
   "metadata": {},
   "outputs": [],
   "source": [
    "some_condition = True\n",
    "\n",
    "while some_condition:\n",
    "    print(\"This is a while loop that acts as an if statement because it only runs once or not at all.\")\n",
    "    break"
   ]
  },
  {
   "cell_type": "markdown",
   "metadata": {},
   "source": [
    "## That's it!\n",
    "\n",
    "That's it for this chapter. I'm writing this at 3:30 am and I'm tired and I can not think of a pun for this one. I pass. You will have to continue to the next one to see if I make a break and come up with something ;)\n",
    "\n",
    "### We learned:\n",
    "\n",
    "- How to use the `break` statement to stop a loop before it's supposed to end.\n",
    "- How to use the `continue` statement to stop an iteration of a loop and go to the next one, without stopping the whole loop.\n",
    "- How to use the `pass` statement to do nothing basically.\n",
    "\n",
    "### Next chapter we will:\n",
    "\n",
    "- Apply all this concepts on a new test case, since we have already finished with Non Sequential coding."
   ]
  }
 ],
 "metadata": {
  "language_info": {
   "name": "python"
  },
  "orig_nbformat": 4
 },
 "nbformat": 4,
 "nbformat_minor": 2
}
