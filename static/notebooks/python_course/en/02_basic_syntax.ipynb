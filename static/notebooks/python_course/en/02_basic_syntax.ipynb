{
 "cells": [
  {
   "cell_type": "markdown",
   "metadata": {},
   "source": [
    "# 02 - With a simple syntax comes great responsibility..\n",
    "\n",
    "In this notebook we will cover the basic syntax of Python.\n",
    "We are about to write our first lines of Python code! Are you ready?"
   ]
  },
  {
   "cell_type": "code",
   "execution_count": 4,
   "metadata": {},
   "outputs": [
    {
     "data": {
      "text/plain": [
       "5"
      ]
     },
     "execution_count": 4,
     "metadata": {},
     "output_type": "execute_result"
    }
   ],
   "source": [
    "2 + 3"
   ]
  },
  {
   "cell_type": "markdown",
   "metadata": {},
   "source": [
    "## Excelent!\n",
    "\n",
    "As you can see, one of the most intrinsic properties of Python is its simplicity. You don't need no extra syntax to make code work. This is also one of the main reason why Python is so popular among beginners and people that needs the abilities of programming without the need of being a programmer. This does not mean that Python is not a powerful language. It is! And it is used by many companies and organizations around the world. But it is also a language that can be used by anyone, even if you are not a programmer.\n",
    "\n",
    "But if just wanted to get the result of a sum we would use a calculator, right? Let's do something more interesting, then."
   ]
  },
  {
   "cell_type": "markdown",
   "metadata": {},
   "source": [
    "## Declaring variables\n",
    "\n",
    "A variable is a container for a value. This container will have a name and each time we call for that name, we will get the value stored in it. Almost any programming language has the concept of variables in some or other way, but the way we define them changes from one to the other. As we said before, since Python excels at simplicity, the way we declare variables is also very simple. We just need to give it a name and assign a value to it. Let's see an example:"
   ]
  },
  {
   "cell_type": "code",
   "execution_count": 5,
   "metadata": {},
   "outputs": [
    {
     "data": {
      "text/plain": [
       "5"
      ]
     },
     "execution_count": 5,
     "metadata": {},
     "output_type": "execute_result"
    }
   ],
   "source": [
    "a = 2\n",
    "\n",
    "a + 3"
   ]
  },
  {
   "cell_type": "markdown",
   "metadata": {},
   "source": [
    "Let's review what we just did:\n",
    "\n",
    "- We declared a variable called `a` and assigned the value `2` to it.\n",
    "- We then called the variable `a` and it returned the value it contained, `2`, which was sumed to the value 3, resulting in the same sum we did before.\n",
    "\n",
    "![declaring_variables](https://raw.githubusercontent.com/lopezjuanma96/portfolio/main/img/python_course/declaring_variables.gif)\n",
    "\n",
    "One important concept is that the `=` (equal sign) is not the same as in math. In math, the equal sign means that both sides of the equation are equal. In Python, the equal sign means that we are assigning the value on the right to the variable on the left. Let's see this in more depth: without knowing the output, what do you think the result of the following code will be?"
   ]
  },
  {
   "cell_type": "code",
   "execution_count": 6,
   "metadata": {},
   "outputs": [
    {
     "data": {
      "text/plain": [
       "(3, 3)"
      ]
     },
     "execution_count": 6,
     "metadata": {},
     "output_type": "execute_result"
    }
   ],
   "source": [
    "a = 2\n",
    "b = 3\n",
    "\n",
    "a = b\n",
    "\n",
    "a, b"
   ]
  },
  {
   "cell_type": "markdown",
   "metadata": {},
   "source": [
    "Don't pay attention right now to the parenthesis, we will see that later. Focus now on how the output for the variables `a` and `b` are both `3`. These means when we did `a = b` we were assigning the value of `b` to `a`. Python went and got the value inside of `b`, which was 3, and first *transformed* `a = b` to `a = 3`, which means it has to assign the value 3 to the variable `a`. This is why the value of `a` is now 3.\n",
    "\n",
    "It always work on this direction, from right to left. To complete the excercise, let's test it out the other way around:"
   ]
  },
  {
   "cell_type": "code",
   "execution_count": 7,
   "metadata": {},
   "outputs": [
    {
     "data": {
      "text/plain": [
       "(2, 2)"
      ]
     },
     "execution_count": 7,
     "metadata": {},
     "output_type": "execute_result"
    }
   ],
   "source": [
    "a = 2\n",
    "b = 3\n",
    "\n",
    "b = a\n",
    "\n",
    "a, b"
   ]
  },
  {
   "cell_type": "markdown",
   "metadata": {},
   "source": [
    "This time, since we did `b = a`, it is `b` the one that gets the value of `a`, making them both have the value `2`. "
   ]
  },
  {
   "cell_type": "markdown",
   "metadata": {},
   "source": [
    "## Repeating Variables"
   ]
  },
  {
   "cell_type": "markdown",
   "metadata": {},
   "source": [
    "Using variables to contain values means we can call them many times on the same line, to get the value they contain as many times as we want."
   ]
  },
  {
   "cell_type": "code",
   "execution_count": 8,
   "metadata": {},
   "outputs": [
    {
     "data": {
      "text/plain": [
       "10"
      ]
     },
     "execution_count": 8,
     "metadata": {},
     "output_type": "execute_result"
    }
   ],
   "source": [
    "a = 2\n",
    "b = a + a + a + a + a\n",
    "\n",
    "b"
   ]
  },
  {
   "cell_type": "markdown",
   "metadata": {},
   "source": [
    "Not that amazed, I see.. Well let me show you my cards now:"
   ]
  },
  {
   "cell_type": "code",
   "execution_count": 9,
   "metadata": {},
   "outputs": [
    {
     "data": {
      "text/plain": [
       "3"
      ]
     },
     "execution_count": 9,
     "metadata": {},
     "output_type": "execute_result"
    }
   ],
   "source": [
    "a = 2\n",
    "a = a + 1\n",
    "\n",
    "a"
   ]
  },
  {
   "cell_type": "markdown",
   "metadata": {},
   "source": [
    "\"What is that second line!?\" I imagine you are shouting at your screen right now. Well, that is a very good question.\n",
    "\n",
    "When we call for the same variable twice but once on the left side and the other on the right side of the assignment `=` sign, Python first gets the value of the variable on the right side, then makes all the operations it needs to do, and finally gets the variable again to assing the resulting value.\n",
    "\n",
    "![repeating_variables](https://raw.githubusercontent.com/lopezjuanma96/portfolio/main/img/python_course/repeating_variables.gif)"
   ]
  },
  {
   "cell_type": "markdown",
   "metadata": {},
   "source": [
    "## Naming variables\n",
    "\n",
    "As for the variables names, there are many conventions on what words should be used, and each person/company establishes their own, even changing from project to project. There are yet some rules that all of them follow, since they are part of the Python language itself. You will encounter some of them as you go, but for now, let's see the most important ones:\n",
    "\n",
    "- Variable names can only contain letters, numbers and underscores. They can start with a letter or an underscore, but not with a number.\n",
    "- Spaces are not allowed in variable names, so we use underscores instead of spaces. For example, `my variable` would be `my_variable` in Python.\n",
    "- You cannot use Python keywords as variable names. Keywords are words that already have a meaning in Python and are reserved for specific purposes. Some examples of keywords are: `print`, `if`, `def`, `class`.\n",
    "\n",
    "Don't worry, if you break one of this rules your code won't run and you will get an error message telling you what you did wrong, but we will see errors later, so let's stay on the bright side for now."
   ]
  },
  {
   "cell_type": "markdown",
   "metadata": {},
   "source": [
    "## Viewing variables: the `print` statement\n",
    "\n",
    "Until now, we have been checking the values of variables by showing them on the output of the code block. This is not bad, but will come inneficiently when wanting to check the value of many variables at the same time. Check this out:"
   ]
  },
  {
   "cell_type": "code",
   "execution_count": 10,
   "metadata": {},
   "outputs": [
    {
     "data": {
      "text/plain": [
       "3"
      ]
     },
     "execution_count": 10,
     "metadata": {},
     "output_type": "execute_result"
    }
   ],
   "source": [
    "a = 2\n",
    "b = 3\n",
    "\n",
    "a\n",
    "b"
   ]
  },
  {
   "cell_type": "markdown",
   "metadata": {},
   "source": [
    "Only the last variable is shown on the output. This is because the output of a code block can only \"be one\".\n",
    "\n",
    "Here is where `print` makes it superb entrance. If at any point of the script you include `print(something)` it will show the value of `something` on the output.\n",
    "\n",
    "***\n",
    "**Note:** What the `print` statement shows is not exactly the same as the output of the code block, but in most cases it can be treated as the same thing. It is no use for us to go deep into this, just keep in mind they *can* be different, and we will the cases where it differs when we come across them."
   ]
  },
  {
   "cell_type": "code",
   "execution_count": 11,
   "metadata": {},
   "outputs": [
    {
     "name": "stdout",
     "output_type": "stream",
     "text": [
      "2\n",
      "3\n"
     ]
    }
   ],
   "source": [
    "# There would be no need to re-declare a & b,\n",
    "# since the kernel keeps them from the previous cell,\n",
    "# but I added them to compare both cells.\n",
    "a = 2\n",
    "b = 3\n",
    "\n",
    "print(a)\n",
    "print(b)"
   ]
  },
  {
   "cell_type": "markdown",
   "metadata": {},
   "source": [
    "Awesome! Now we can both assign and view the values of variables. Let's see some more examples (notice how we can not only print values of variables but also the results of operations with those variables):"
   ]
  },
  {
   "cell_type": "code",
   "execution_count": 12,
   "metadata": {},
   "outputs": [
    {
     "name": "stdout",
     "output_type": "stream",
     "text": [
      "2\n",
      "5\n",
      "4\n"
     ]
    }
   ],
   "source": [
    "print(a)\n",
    "print(a + b)\n",
    "print(a + 2)"
   ]
  },
  {
   "cell_type": "markdown",
   "metadata": {},
   "source": [
    "## That's it!\n",
    "\n",
    "That's it for this chapter. We are doing great!\n",
    "\n",
    "### We learned:\n",
    "\n",
    "- How to declare variables, assign values to them, some basics operations (actually we only saw the sum) and how to view their values on the output of a code cell.\n",
    "- Some rules on how to name variables.\n",
    "- The `print` statement, an alternate way to view the values of variables, although really the most used.\n",
    "\n",
    "### Next chapter we will:\n",
    "\n",
    "- Learn about data types and how to work with them."
   ]
  }
 ],
 "metadata": {
  "kernelspec": {
   "display_name": "base",
   "language": "python",
   "name": "python3"
  },
  "language_info": {
   "codemirror_mode": {
    "name": "ipython",
    "version": 3
   },
   "file_extension": ".py",
   "mimetype": "text/x-python",
   "name": "python",
   "nbconvert_exporter": "python",
   "pygments_lexer": "ipython3",
   "version": "3.10.9"
  },
  "orig_nbformat": 4
 },
 "nbformat": 4,
 "nbformat_minor": 2
}
